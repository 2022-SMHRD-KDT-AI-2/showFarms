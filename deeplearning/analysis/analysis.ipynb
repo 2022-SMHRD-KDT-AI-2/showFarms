{
 "cells": [
  {
   "cell_type": "markdown",
   "metadata": {
    "pycharm": {
     "name": "#%% md\n"
    }
   },
   "source": [
    "## 문제 정의\n",
    "\n",
    "YOLOv5를 사용한 색상, 흠집에 대한 이미지 학습으로 등급을 정확하게 분류하기에는 한계가 있음\n",
    "실제로 무게와 당도가 등급 분류에 영향을 미침\n",
    "특히 특급, 상급은 비슷한 이미지가 많아 정확성이 30%대로 매우 낮은 수치에 해당함\n",
    "따라서 무게를 추론 해낼 수 있는 넓이, 높이와 같은 크기 수치와 등급의 상관 관계 분석을 실시\n",
    "\n",
    "<br>\n",
    "\n",
    "- 귀무 가설(Null Hypothesis) : 크기와 넓이가 특급, 상급 등급 분류에 영향을 주지 않는다.\n",
    "\n",
    "- 대안 가설(Alternative Hypothesis) : 크기와 넓이가 특급, 상급 등급 분류에 영향을 준다."
   ]
  },
  {
   "cell_type": "markdown",
   "metadata": {
    "pycharm": {
     "name": "#%% md\n"
    }
   },
   "source": [
    "## 데이터 전처리 (Data Preprocessing)"
   ]
  },
  {
   "cell_type": "code",
   "execution_count": 115,
   "metadata": {
    "pycharm": {
     "name": "#%%\n"
    }
   },
   "outputs": [],
   "source": [
    "# 사용 라이브러리 임포트\n",
    "import numpy as np\n",
    "import pandas as pd\n",
    "from random import sample\n",
    "import matplotlib.pyplot as plt"
   ]
  },
  {
   "cell_type": "code",
   "execution_count": 116,
   "metadata": {
    "pycharm": {
     "name": "#%%\n"
    }
   },
   "outputs": [
    {
     "data": {
      "text/html": [
       "<div>\n",
       "<style scoped>\n",
       "    .dataframe tbody tr th:only-of-type {\n",
       "        vertical-align: middle;\n",
       "    }\n",
       "\n",
       "    .dataframe tbody tr th {\n",
       "        vertical-align: top;\n",
       "    }\n",
       "\n",
       "    .dataframe thead th {\n",
       "        text-align: right;\n",
       "    }\n",
       "</style>\n",
       "<table border=\"1\" class=\"dataframe\">\n",
       "  <thead>\n",
       "    <tr style=\"text-align: right;\">\n",
       "      <th></th>\n",
       "      <th>ImageID</th>\n",
       "      <th>LabelName</th>\n",
       "      <th>Width</th>\n",
       "      <th>Height</th>\n",
       "    </tr>\n",
       "  </thead>\n",
       "  <tbody>\n",
       "    <tr>\n",
       "      <th>0</th>\n",
       "      <td>apple_fuji_L_1</td>\n",
       "      <td>high</td>\n",
       "      <td>9.7</td>\n",
       "      <td>9.0</td>\n",
       "    </tr>\n",
       "    <tr>\n",
       "      <th>1</th>\n",
       "      <td>apple_fuji_L_10</td>\n",
       "      <td>high</td>\n",
       "      <td>9.6</td>\n",
       "      <td>8.9</td>\n",
       "    </tr>\n",
       "    <tr>\n",
       "      <th>2</th>\n",
       "      <td>apple_fuji_L_11</td>\n",
       "      <td>high</td>\n",
       "      <td>9.4</td>\n",
       "      <td>8.7</td>\n",
       "    </tr>\n",
       "    <tr>\n",
       "      <th>3</th>\n",
       "      <td>apple_fuji_L_12</td>\n",
       "      <td>high</td>\n",
       "      <td>9.7</td>\n",
       "      <td>8.7</td>\n",
       "    </tr>\n",
       "    <tr>\n",
       "      <th>4</th>\n",
       "      <td>apple_fuji_L_13</td>\n",
       "      <td>high</td>\n",
       "      <td>9.7</td>\n",
       "      <td>9.4</td>\n",
       "    </tr>\n",
       "  </tbody>\n",
       "</table>\n",
       "</div>"
      ],
      "text/plain": [
       "           ImageID LabelName  Width  Height\n",
       "0   apple_fuji_L_1      high    9.7     9.0\n",
       "1  apple_fuji_L_10      high    9.6     8.9\n",
       "2  apple_fuji_L_11      high    9.4     8.7\n",
       "3  apple_fuji_L_12      high    9.7     8.7\n",
       "4  apple_fuji_L_13      high    9.7     9.4"
      ]
     },
     "execution_count": 116,
     "metadata": {},
     "output_type": "execute_result"
    }
   ],
   "source": [
    "# 데이터 프레임 로드\n",
    "df = pd.read_csv(\"data/dataset.csv\")\n",
    "df.head()\n",
    "# High는 특급, Medium은 상급, Low는 보통급에 해당함"
   ]
  },
  {
   "cell_type": "code",
   "execution_count": 117,
   "metadata": {
    "pycharm": {
     "name": "#%%\n"
    },
    "scrolled": true
   },
   "outputs": [
    {
     "data": {
      "text/html": [
       "<div>\n",
       "<style scoped>\n",
       "    .dataframe tbody tr th:only-of-type {\n",
       "        vertical-align: middle;\n",
       "    }\n",
       "\n",
       "    .dataframe tbody tr th {\n",
       "        vertical-align: top;\n",
       "    }\n",
       "\n",
       "    .dataframe thead th {\n",
       "        text-align: right;\n",
       "    }\n",
       "</style>\n",
       "<table border=\"1\" class=\"dataframe\">\n",
       "  <thead>\n",
       "    <tr style=\"text-align: right;\">\n",
       "      <th></th>\n",
       "      <th>ImageID</th>\n",
       "      <th>LabelName</th>\n",
       "      <th>Width</th>\n",
       "      <th>Height</th>\n",
       "    </tr>\n",
       "  </thead>\n",
       "  <tbody>\n",
       "    <tr>\n",
       "      <th>0</th>\n",
       "      <td>apple_fuji_L_1</td>\n",
       "      <td>high</td>\n",
       "      <td>9.7</td>\n",
       "      <td>9.0</td>\n",
       "    </tr>\n",
       "    <tr>\n",
       "      <th>1</th>\n",
       "      <td>apple_fuji_L_10</td>\n",
       "      <td>high</td>\n",
       "      <td>9.6</td>\n",
       "      <td>8.9</td>\n",
       "    </tr>\n",
       "    <tr>\n",
       "      <th>2</th>\n",
       "      <td>apple_fuji_L_11</td>\n",
       "      <td>high</td>\n",
       "      <td>9.4</td>\n",
       "      <td>8.7</td>\n",
       "    </tr>\n",
       "    <tr>\n",
       "      <th>3</th>\n",
       "      <td>apple_fuji_L_12</td>\n",
       "      <td>high</td>\n",
       "      <td>9.7</td>\n",
       "      <td>8.7</td>\n",
       "    </tr>\n",
       "    <tr>\n",
       "      <th>4</th>\n",
       "      <td>apple_fuji_L_13</td>\n",
       "      <td>high</td>\n",
       "      <td>9.7</td>\n",
       "      <td>9.4</td>\n",
       "    </tr>\n",
       "    <tr>\n",
       "      <th>...</th>\n",
       "      <td>...</td>\n",
       "      <td>...</td>\n",
       "      <td>...</td>\n",
       "      <td>...</td>\n",
       "    </tr>\n",
       "    <tr>\n",
       "      <th>115</th>\n",
       "      <td>apple_fuji_M_6</td>\n",
       "      <td>medium</td>\n",
       "      <td>8.7</td>\n",
       "      <td>8.1</td>\n",
       "    </tr>\n",
       "    <tr>\n",
       "      <th>116</th>\n",
       "      <td>apple_fuji_M_60</td>\n",
       "      <td>medium</td>\n",
       "      <td>8.4</td>\n",
       "      <td>7.5</td>\n",
       "    </tr>\n",
       "    <tr>\n",
       "      <th>117</th>\n",
       "      <td>apple_fuji_M_7</td>\n",
       "      <td>medium</td>\n",
       "      <td>8.9</td>\n",
       "      <td>7.9</td>\n",
       "    </tr>\n",
       "    <tr>\n",
       "      <th>118</th>\n",
       "      <td>apple_fuji_M_8</td>\n",
       "      <td>medium</td>\n",
       "      <td>8.8</td>\n",
       "      <td>7.9</td>\n",
       "    </tr>\n",
       "    <tr>\n",
       "      <th>119</th>\n",
       "      <td>apple_fuji_M_9</td>\n",
       "      <td>medium</td>\n",
       "      <td>9.0</td>\n",
       "      <td>8.0</td>\n",
       "    </tr>\n",
       "  </tbody>\n",
       "</table>\n",
       "<p>120 rows × 4 columns</p>\n",
       "</div>"
      ],
      "text/plain": [
       "             ImageID LabelName  Width  Height\n",
       "0     apple_fuji_L_1      high    9.7     9.0\n",
       "1    apple_fuji_L_10      high    9.6     8.9\n",
       "2    apple_fuji_L_11      high    9.4     8.7\n",
       "3    apple_fuji_L_12      high    9.7     8.7\n",
       "4    apple_fuji_L_13      high    9.7     9.4\n",
       "..               ...       ...    ...     ...\n",
       "115   apple_fuji_M_6    medium    8.7     8.1\n",
       "116  apple_fuji_M_60    medium    8.4     7.5\n",
       "117   apple_fuji_M_7    medium    8.9     7.9\n",
       "118   apple_fuji_M_8    medium    8.8     7.9\n",
       "119   apple_fuji_M_9    medium    9.0     8.0\n",
       "\n",
       "[120 rows x 4 columns]"
      ]
     },
     "execution_count": 117,
     "metadata": {},
     "output_type": "execute_result"
    }
   ],
   "source": [
    "# 특급과 상급을 비교하기 위해 보통은 데이터프레임으로부터 제외\n",
    "# 여기에 슬라이싱 사용해서 high랑 medium 남게 할것\n",
    "df_1 = df[df.LabelName != 'low']\n",
    "df_1"
   ]
  },
  {
   "cell_type": "code",
   "execution_count": 118,
   "metadata": {},
   "outputs": [
    {
     "data": {
      "text/html": [
       "<div>\n",
       "<style scoped>\n",
       "    .dataframe tbody tr th:only-of-type {\n",
       "        vertical-align: middle;\n",
       "    }\n",
       "\n",
       "    .dataframe tbody tr th {\n",
       "        vertical-align: top;\n",
       "    }\n",
       "\n",
       "    .dataframe thead th {\n",
       "        text-align: right;\n",
       "    }\n",
       "</style>\n",
       "<table border=\"1\" class=\"dataframe\">\n",
       "  <thead>\n",
       "    <tr style=\"text-align: right;\">\n",
       "      <th></th>\n",
       "      <th>ImageID</th>\n",
       "      <th>LabelName</th>\n",
       "      <th>Width</th>\n",
       "      <th>Height</th>\n",
       "    </tr>\n",
       "  </thead>\n",
       "  <tbody>\n",
       "    <tr>\n",
       "      <th>60</th>\n",
       "      <td>apple_fuji_M_1</td>\n",
       "      <td>medium</td>\n",
       "      <td>8.6</td>\n",
       "      <td>7.5</td>\n",
       "    </tr>\n",
       "    <tr>\n",
       "      <th>61</th>\n",
       "      <td>apple_fuji_M_10</td>\n",
       "      <td>medium</td>\n",
       "      <td>9.5</td>\n",
       "      <td>7.5</td>\n",
       "    </tr>\n",
       "    <tr>\n",
       "      <th>62</th>\n",
       "      <td>apple_fuji_M_11</td>\n",
       "      <td>medium</td>\n",
       "      <td>8.8</td>\n",
       "      <td>7.2</td>\n",
       "    </tr>\n",
       "    <tr>\n",
       "      <th>63</th>\n",
       "      <td>apple_fuji_M_12</td>\n",
       "      <td>medium</td>\n",
       "      <td>8.6</td>\n",
       "      <td>7.1</td>\n",
       "    </tr>\n",
       "    <tr>\n",
       "      <th>64</th>\n",
       "      <td>apple_fuji_M_13</td>\n",
       "      <td>medium</td>\n",
       "      <td>8.1</td>\n",
       "      <td>7.1</td>\n",
       "    </tr>\n",
       "    <tr>\n",
       "      <th>...</th>\n",
       "      <td>...</td>\n",
       "      <td>...</td>\n",
       "      <td>...</td>\n",
       "      <td>...</td>\n",
       "    </tr>\n",
       "    <tr>\n",
       "      <th>175</th>\n",
       "      <td>apple_fuji_S_6</td>\n",
       "      <td>low</td>\n",
       "      <td>7.8</td>\n",
       "      <td>6.6</td>\n",
       "    </tr>\n",
       "    <tr>\n",
       "      <th>176</th>\n",
       "      <td>apple_fuji_S_60</td>\n",
       "      <td>low</td>\n",
       "      <td>7.5</td>\n",
       "      <td>6.5</td>\n",
       "    </tr>\n",
       "    <tr>\n",
       "      <th>177</th>\n",
       "      <td>apple_fuji_S_7</td>\n",
       "      <td>low</td>\n",
       "      <td>7.5</td>\n",
       "      <td>7.0</td>\n",
       "    </tr>\n",
       "    <tr>\n",
       "      <th>178</th>\n",
       "      <td>apple_fuji_S_8</td>\n",
       "      <td>low</td>\n",
       "      <td>7.8</td>\n",
       "      <td>7.1</td>\n",
       "    </tr>\n",
       "    <tr>\n",
       "      <th>179</th>\n",
       "      <td>apple_fuji_S_9</td>\n",
       "      <td>low</td>\n",
       "      <td>7.5</td>\n",
       "      <td>6.5</td>\n",
       "    </tr>\n",
       "  </tbody>\n",
       "</table>\n",
       "<p>120 rows × 4 columns</p>\n",
       "</div>"
      ],
      "text/plain": [
       "             ImageID LabelName  Width  Height\n",
       "60    apple_fuji_M_1    medium    8.6     7.5\n",
       "61   apple_fuji_M_10    medium    9.5     7.5\n",
       "62   apple_fuji_M_11    medium    8.8     7.2\n",
       "63   apple_fuji_M_12    medium    8.6     7.1\n",
       "64   apple_fuji_M_13    medium    8.1     7.1\n",
       "..               ...       ...    ...     ...\n",
       "175   apple_fuji_S_6       low    7.8     6.6\n",
       "176  apple_fuji_S_60       low    7.5     6.5\n",
       "177   apple_fuji_S_7       low    7.5     7.0\n",
       "178   apple_fuji_S_8       low    7.8     7.1\n",
       "179   apple_fuji_S_9       low    7.5     6.5\n",
       "\n",
       "[120 rows x 4 columns]"
      ]
     },
     "execution_count": 118,
     "metadata": {},
     "output_type": "execute_result"
    }
   ],
   "source": [
    "df_2 = df[df.LabelName != 'high']\n",
    "df_2"
   ]
  },
  {
   "cell_type": "code",
   "execution_count": 119,
   "metadata": {},
   "outputs": [
    {
     "data": {
      "text/html": [
       "<div>\n",
       "<style scoped>\n",
       "    .dataframe tbody tr th:only-of-type {\n",
       "        vertical-align: middle;\n",
       "    }\n",
       "\n",
       "    .dataframe tbody tr th {\n",
       "        vertical-align: top;\n",
       "    }\n",
       "\n",
       "    .dataframe thead th {\n",
       "        text-align: right;\n",
       "    }\n",
       "</style>\n",
       "<table border=\"1\" class=\"dataframe\">\n",
       "  <thead>\n",
       "    <tr style=\"text-align: right;\">\n",
       "      <th></th>\n",
       "      <th>Width</th>\n",
       "      <th>Height</th>\n",
       "    </tr>\n",
       "  </thead>\n",
       "  <tbody>\n",
       "    <tr>\n",
       "      <th>count</th>\n",
       "      <td>60.000000</td>\n",
       "      <td>60.000000</td>\n",
       "    </tr>\n",
       "    <tr>\n",
       "      <th>mean</th>\n",
       "      <td>7.540000</td>\n",
       "      <td>6.638333</td>\n",
       "    </tr>\n",
       "    <tr>\n",
       "      <th>std</th>\n",
       "      <td>0.205187</td>\n",
       "      <td>0.287061</td>\n",
       "    </tr>\n",
       "    <tr>\n",
       "      <th>min</th>\n",
       "      <td>7.000000</td>\n",
       "      <td>6.100000</td>\n",
       "    </tr>\n",
       "    <tr>\n",
       "      <th>25%</th>\n",
       "      <td>7.400000</td>\n",
       "      <td>6.400000</td>\n",
       "    </tr>\n",
       "    <tr>\n",
       "      <th>50%</th>\n",
       "      <td>7.500000</td>\n",
       "      <td>6.550000</td>\n",
       "    </tr>\n",
       "    <tr>\n",
       "      <th>75%</th>\n",
       "      <td>7.700000</td>\n",
       "      <td>6.900000</td>\n",
       "    </tr>\n",
       "    <tr>\n",
       "      <th>max</th>\n",
       "      <td>7.900000</td>\n",
       "      <td>7.200000</td>\n",
       "    </tr>\n",
       "  </tbody>\n",
       "</table>\n",
       "</div>"
      ],
      "text/plain": [
       "           Width     Height\n",
       "count  60.000000  60.000000\n",
       "mean    7.540000   6.638333\n",
       "std     0.205187   0.287061\n",
       "min     7.000000   6.100000\n",
       "25%     7.400000   6.400000\n",
       "50%     7.500000   6.550000\n",
       "75%     7.700000   6.900000\n",
       "max     7.900000   7.200000"
      ]
     },
     "execution_count": 119,
     "metadata": {},
     "output_type": "execute_result"
    }
   ],
   "source": [
    "df_l = df[df.LabelName == 'low']\n",
    "df_l.describe()"
   ]
  },
  {
   "cell_type": "markdown",
   "metadata": {
    "pycharm": {
     "name": "#%% md\n"
    }
   },
   "source": [
    "## 탐색적 데이터 분석 (EDA)"
   ]
  },
  {
   "cell_type": "markdown",
   "metadata": {
    "pycharm": {
     "name": "#%% md\n"
    }
   },
   "source": [
    "### 데이터 분석 (Data analysis)"
   ]
  },
  {
   "cell_type": "code",
   "execution_count": 120,
   "metadata": {},
   "outputs": [
    {
     "data": {
      "text/plain": [
       "Index(['ImageID', 'LabelName', 'Width', 'Height'], dtype='object')"
      ]
     },
     "execution_count": 120,
     "metadata": {},
     "output_type": "execute_result"
    }
   ],
   "source": [
    "df_1.keys()"
   ]
  },
  {
   "cell_type": "code",
   "execution_count": 121,
   "metadata": {
    "pycharm": {
     "name": "#%%\n"
    }
   },
   "outputs": [
    {
     "data": {
      "text/html": [
       "<div>\n",
       "<style scoped>\n",
       "    .dataframe tbody tr th:only-of-type {\n",
       "        vertical-align: middle;\n",
       "    }\n",
       "\n",
       "    .dataframe tbody tr th {\n",
       "        vertical-align: top;\n",
       "    }\n",
       "\n",
       "    .dataframe thead th {\n",
       "        text-align: right;\n",
       "    }\n",
       "</style>\n",
       "<table border=\"1\" class=\"dataframe\">\n",
       "  <thead>\n",
       "    <tr style=\"text-align: right;\">\n",
       "      <th></th>\n",
       "      <th>Width</th>\n",
       "      <th>Height</th>\n",
       "    </tr>\n",
       "  </thead>\n",
       "  <tbody>\n",
       "    <tr>\n",
       "      <th>count</th>\n",
       "      <td>120.000000</td>\n",
       "      <td>120.000000</td>\n",
       "    </tr>\n",
       "    <tr>\n",
       "      <th>mean</th>\n",
       "      <td>9.107500</td>\n",
       "      <td>8.291667</td>\n",
       "    </tr>\n",
       "    <tr>\n",
       "      <th>std</th>\n",
       "      <td>0.581531</td>\n",
       "      <td>0.668447</td>\n",
       "    </tr>\n",
       "    <tr>\n",
       "      <th>min</th>\n",
       "      <td>8.100000</td>\n",
       "      <td>7.100000</td>\n",
       "    </tr>\n",
       "    <tr>\n",
       "      <th>25%</th>\n",
       "      <td>8.700000</td>\n",
       "      <td>7.700000</td>\n",
       "    </tr>\n",
       "    <tr>\n",
       "      <th>50%</th>\n",
       "      <td>9.050000</td>\n",
       "      <td>8.300000</td>\n",
       "    </tr>\n",
       "    <tr>\n",
       "      <th>75%</th>\n",
       "      <td>9.500000</td>\n",
       "      <td>8.825000</td>\n",
       "    </tr>\n",
       "    <tr>\n",
       "      <th>max</th>\n",
       "      <td>10.500000</td>\n",
       "      <td>9.500000</td>\n",
       "    </tr>\n",
       "  </tbody>\n",
       "</table>\n",
       "</div>"
      ],
      "text/plain": [
       "            Width      Height\n",
       "count  120.000000  120.000000\n",
       "mean     9.107500    8.291667\n",
       "std      0.581531    0.668447\n",
       "min      8.100000    7.100000\n",
       "25%      8.700000    7.700000\n",
       "50%      9.050000    8.300000\n",
       "75%      9.500000    8.825000\n",
       "max     10.500000    9.500000"
      ]
     },
     "execution_count": 121,
     "metadata": {},
     "output_type": "execute_result"
    }
   ],
   "source": [
    "# 특급과 상급 크기, 넓이 평균값 비교\n",
    "df_1.describe()"
   ]
  },
  {
   "cell_type": "code",
   "execution_count": 122,
   "metadata": {},
   "outputs": [],
   "source": [
    "df_h = df_1[df_1.LabelName == 'high']"
   ]
  },
  {
   "cell_type": "code",
   "execution_count": 123,
   "metadata": {},
   "outputs": [
    {
     "data": {
      "text/html": [
       "<div>\n",
       "<style scoped>\n",
       "    .dataframe tbody tr th:only-of-type {\n",
       "        vertical-align: middle;\n",
       "    }\n",
       "\n",
       "    .dataframe tbody tr th {\n",
       "        vertical-align: top;\n",
       "    }\n",
       "\n",
       "    .dataframe thead th {\n",
       "        text-align: right;\n",
       "    }\n",
       "</style>\n",
       "<table border=\"1\" class=\"dataframe\">\n",
       "  <thead>\n",
       "    <tr style=\"text-align: right;\">\n",
       "      <th></th>\n",
       "      <th>Width</th>\n",
       "      <th>Height</th>\n",
       "    </tr>\n",
       "  </thead>\n",
       "  <tbody>\n",
       "    <tr>\n",
       "      <th>count</th>\n",
       "      <td>60.000000</td>\n",
       "      <td>60.000000</td>\n",
       "    </tr>\n",
       "    <tr>\n",
       "      <th>mean</th>\n",
       "      <td>9.590000</td>\n",
       "      <td>8.878333</td>\n",
       "    </tr>\n",
       "    <tr>\n",
       "      <th>std</th>\n",
       "      <td>0.336835</td>\n",
       "      <td>0.308683</td>\n",
       "    </tr>\n",
       "    <tr>\n",
       "      <th>min</th>\n",
       "      <td>9.000000</td>\n",
       "      <td>8.200000</td>\n",
       "    </tr>\n",
       "    <tr>\n",
       "      <th>25%</th>\n",
       "      <td>9.400000</td>\n",
       "      <td>8.675000</td>\n",
       "    </tr>\n",
       "    <tr>\n",
       "      <th>50%</th>\n",
       "      <td>9.500000</td>\n",
       "      <td>8.850000</td>\n",
       "    </tr>\n",
       "    <tr>\n",
       "      <th>75%</th>\n",
       "      <td>9.800000</td>\n",
       "      <td>9.025000</td>\n",
       "    </tr>\n",
       "    <tr>\n",
       "      <th>max</th>\n",
       "      <td>10.500000</td>\n",
       "      <td>9.500000</td>\n",
       "    </tr>\n",
       "  </tbody>\n",
       "</table>\n",
       "</div>"
      ],
      "text/plain": [
       "           Width     Height\n",
       "count  60.000000  60.000000\n",
       "mean    9.590000   8.878333\n",
       "std     0.336835   0.308683\n",
       "min     9.000000   8.200000\n",
       "25%     9.400000   8.675000\n",
       "50%     9.500000   8.850000\n",
       "75%     9.800000   9.025000\n",
       "max    10.500000   9.500000"
      ]
     },
     "execution_count": 123,
     "metadata": {},
     "output_type": "execute_result"
    }
   ],
   "source": [
    "df_h.describe()"
   ]
  },
  {
   "cell_type": "code",
   "execution_count": 124,
   "metadata": {},
   "outputs": [],
   "source": [
    "df_m = df_1[df_1.LabelName == 'medium']"
   ]
  },
  {
   "cell_type": "code",
   "execution_count": 125,
   "metadata": {},
   "outputs": [
    {
     "data": {
      "text/html": [
       "<div>\n",
       "<style scoped>\n",
       "    .dataframe tbody tr th:only-of-type {\n",
       "        vertical-align: middle;\n",
       "    }\n",
       "\n",
       "    .dataframe tbody tr th {\n",
       "        vertical-align: top;\n",
       "    }\n",
       "\n",
       "    .dataframe thead th {\n",
       "        text-align: right;\n",
       "    }\n",
       "</style>\n",
       "<table border=\"1\" class=\"dataframe\">\n",
       "  <thead>\n",
       "    <tr style=\"text-align: right;\">\n",
       "      <th></th>\n",
       "      <th>Width</th>\n",
       "      <th>Height</th>\n",
       "    </tr>\n",
       "  </thead>\n",
       "  <tbody>\n",
       "    <tr>\n",
       "      <th>count</th>\n",
       "      <td>60.000000</td>\n",
       "      <td>60.000000</td>\n",
       "    </tr>\n",
       "    <tr>\n",
       "      <th>mean</th>\n",
       "      <td>8.625000</td>\n",
       "      <td>7.705000</td>\n",
       "    </tr>\n",
       "    <tr>\n",
       "      <th>std</th>\n",
       "      <td>0.308427</td>\n",
       "      <td>0.325433</td>\n",
       "    </tr>\n",
       "    <tr>\n",
       "      <th>min</th>\n",
       "      <td>8.100000</td>\n",
       "      <td>7.100000</td>\n",
       "    </tr>\n",
       "    <tr>\n",
       "      <th>25%</th>\n",
       "      <td>8.400000</td>\n",
       "      <td>7.500000</td>\n",
       "    </tr>\n",
       "    <tr>\n",
       "      <th>50%</th>\n",
       "      <td>8.700000</td>\n",
       "      <td>7.700000</td>\n",
       "    </tr>\n",
       "    <tr>\n",
       "      <th>75%</th>\n",
       "      <td>8.800000</td>\n",
       "      <td>8.000000</td>\n",
       "    </tr>\n",
       "    <tr>\n",
       "      <th>max</th>\n",
       "      <td>9.500000</td>\n",
       "      <td>8.600000</td>\n",
       "    </tr>\n",
       "  </tbody>\n",
       "</table>\n",
       "</div>"
      ],
      "text/plain": [
       "           Width     Height\n",
       "count  60.000000  60.000000\n",
       "mean    8.625000   7.705000\n",
       "std     0.308427   0.325433\n",
       "min     8.100000   7.100000\n",
       "25%     8.400000   7.500000\n",
       "50%     8.700000   7.700000\n",
       "75%     8.800000   8.000000\n",
       "max     9.500000   8.600000"
      ]
     },
     "execution_count": 125,
     "metadata": {},
     "output_type": "execute_result"
    }
   ],
   "source": [
    "df_m.describe()"
   ]
  },
  {
   "cell_type": "markdown",
   "metadata": {
    "pycharm": {
     "name": "#%% md\n"
    }
   },
   "source": [
    "### 시각화(Visualization)"
   ]
  },
  {
   "cell_type": "code",
   "execution_count": 126,
   "metadata": {
    "pycharm": {
     "name": "#%%\n"
    }
   },
   "outputs": [
    {
     "data": {
      "image/png": "[encoded data removed]",
      "text/plain": [
       "<Figure size 432x288 with 1 Axes>"
      ]
     },
     "metadata": {
      "needs_background": "light"
     },
     "output_type": "display_data"
    }
   ],
   "source": [
    "# 등급에 따른 Height 분포 (히스토그램 사용)\n",
    "plt.hist(df_h['Height'])\n",
    "plt.axvline(x = df_h['Height'].mean(), linewidth = 2, color = 'r')\n",
    "plt.show()"
   ]
  },
  {
   "cell_type": "code",
   "execution_count": 127,
   "metadata": {
    "pycharm": {
     "name": "#%%\n"
    }
   },
   "outputs": [
    {
     "data": {
      "image/png": "[encoded data removed]",
      "text/plain": [
       "<Figure size 432x288 with 1 Axes>"
      ]
     },
     "metadata": {
      "needs_background": "light"
     },
     "output_type": "display_data"
    }
   ],
   "source": [
    "# 등급에 따른 width 분포 (히스토그램 사용)\n",
    "plt.hist(df_h['Width'])\n",
    "plt.axvline(x = df_h['Width'].mean(), linewidth = 2, color = 'r')\n",
    "plt.show()"
   ]
  },
  {
   "cell_type": "code",
   "execution_count": 128,
   "metadata": {},
   "outputs": [
    {
     "data": {
      "image/png": "[encoded data removed]",
      "text/plain": [
       "<Figure size 432x288 with 1 Axes>"
      ]
     },
     "metadata": {
      "needs_background": "light"
     },
     "output_type": "display_data"
    }
   ],
   "source": [
    "plt.hist(df_m['Height'])\n",
    "plt.axvline(x = df_m['Height'].mean(), linewidth = 2, color = 'r')\n",
    "plt.show()"
   ]
  },
  {
   "cell_type": "code",
   "execution_count": 129,
   "metadata": {},
   "outputs": [
    {
     "data": {
      "image/png": "[encoded data removed]",
      "text/plain": [
       "<Figure size 432x288 with 1 Axes>"
      ]
     },
     "metadata": {
      "needs_background": "light"
     },
     "output_type": "display_data"
    }
   ],
   "source": [
    "plt.hist(df_m['Width'])\n",
    "plt.axvline(x = df_m['Width'].mean(), linewidth = 2, color = 'r')\n",
    "plt.show()"
   ]
  },
  {
   "cell_type": "markdown",
   "metadata": {
    "pycharm": {
     "name": "#%% md\n"
    }
   },
   "source": [
    "### 순열검정법 (Permutation test)\n",
    "\n",
    "##### 전체 순열 검정법 (exhaustive permutation test)\n",
    "- 만약 히스토그램의 분포도가 정규 분포에 해당하면 실시\n",
    "##### 부트스트래핑 (Bootstrapping)\n",
    "- 만약 히스토그램의 분포도가 정규 분포에 해당하지 않으면 실시\n",
    "\n",
    "##### 두 방법의 차이점\n",
    "- 전체 순열 검정은 재표본추출(샘플링) 할때 중복 되지 않도록 한다. 했던 것을 다시 뽑으면 안됨\n",
    "- 부트스트래핑은 재표본추출(샘플링) 할때 중복 될 수도 있도록 한다. 했던 것을 다시 뽑아도 됨\n"
   ]
  },
  {
   "cell_type": "markdown",
   "metadata": {
    "pycharm": {
     "name": "#%% md\n"
    }
   },
   "source": [
    "#### 크기(Height) 테스트"
   ]
  },
  {
   "cell_type": "code",
   "execution_count": 130,
   "metadata": {
    "pycharm": {
     "name": "#%%\n"
    }
   },
   "outputs": [
    {
     "data": {
      "text/plain": [
       "1.1733333333333338"
      ]
     },
     "execution_count": 130,
     "metadata": {},
     "output_type": "execute_result"
    }
   ],
   "source": [
    "# 관측치 = 특급과 상급의 높이 차이점\n",
    "pivot_tb = pd.pivot_table(df_1, values=\"Height\",index=['LabelName'], aggfunc=np.mean)\n",
    "obs = (pivot_tb.values[0] - pivot_tb.values[1])[0]# 관측치 계산(observation) - 특급의 평균 크기\n",
    "obs"
   ]
  },
  {
   "cell_type": "code",
   "execution_count": 131,
   "metadata": {
    "pycharm": {
     "name": "#%%\n"
    }
   },
   "outputs": [],
   "source": [
    "# 랜덤 셔플링 코드\n",
    "# 1000번 샘플링을 할것\n",
    "N = 1000\n",
    "# 특급의 갯수\n",
    "size = df_1[df_1['LabelName']=='high'].shape[0]\n",
    "#\n",
    "def perm_test(table):\n",
    "    # 섞는 과정\n",
    "    shuffled_col = (table['LabelName'].sample(replace=False,frac=1).reset_index(drop=True))\n",
    "    added_shuffle = table.assign(**{'shuffled': shuffled_col})\n",
    "    mean_diff = pd.pivot_table(added_shuffle, values=\"Height\",index=['shuffled'], aggfunc=np.mean)\n",
    "    mean_diff = (mean_diff.values[0] - mean_diff.values[1])[0]\n",
    "    return mean_diff\n",
    "\n",
    "results = [perm_test(df_1) for i in np.arange(N)]"
   ]
  },
  {
   "cell_type": "code",
   "execution_count": 132,
   "metadata": {
    "pycharm": {
     "name": "#%%\n"
    }
   },
   "outputs": [
    {
     "data": {
      "text/plain": [
       "0.0"
      ]
     },
     "execution_count": 132,
     "metadata": {},
     "output_type": "execute_result"
    }
   ],
   "source": [
    "# p-value 계산\n",
    "simul = pd.Series(np.array(results))\n",
    "p_val = np.count_nonzero(simul >= obs)/1000\n",
    "p_val"
   ]
  },
  {
   "cell_type": "code",
   "execution_count": 133,
   "metadata": {
    "pycharm": {
     "name": "#%%\n"
    }
   },
   "outputs": [
    {
     "data": {
      "text/plain": [
       "<matplotlib.collections.PathCollection at 0x24d58a3a1c0>"
      ]
     },
     "execution_count": 133,
     "metadata": {},
     "output_type": "execute_result"
    },
    {
     "data": {
      "image/png": "[encoded data removed]",
      "text/plain": [
       "<Figure size 432x288 with 1 Axes>"
      ]
     },
     "metadata": {
      "needs_background": "light"
     },
     "output_type": "display_data"
    }
   ],
   "source": [
    "# 시각화\n",
    "pd.Series(simul).plot(kind='hist', title='Height Permutation Test')\n",
    "plt.scatter(obs,2,color='r',s=20)"
   ]
  },
  {
   "cell_type": "markdown",
   "metadata": {
    "pycharm": {
     "name": "#%% md\n"
    }
   },
   "source": [
    "#### 넓이(Width) 테스트"
   ]
  },
  {
   "cell_type": "code",
   "execution_count": 134,
   "metadata": {
    "pycharm": {
     "name": "#%%\n"
    }
   },
   "outputs": [
    {
     "data": {
      "text/plain": [
       "0.9649999999999999"
      ]
     },
     "execution_count": 134,
     "metadata": {},
     "output_type": "execute_result"
    }
   ],
   "source": [
    "# 관측치 = 특급과 상급의 높이 차이점\n",
    "pivot_tb = pd.pivot_table(df_1, values=\"Width\",index=['LabelName'], aggfunc=np.mean)\n",
    "obs = (pivot_tb.values[0] - pivot_tb.values[1])[0]# 관측치 계산(observation) - 특급의 평균 크기\n",
    "obs"
   ]
  },
  {
   "cell_type": "code",
   "execution_count": 135,
   "metadata": {
    "pycharm": {
     "name": "#%%\n"
    }
   },
   "outputs": [],
   "source": [
    "# 랜덤 셔플링 코드\n",
    "# 1000번 샘플링을 할것\n",
    "N = 1000\n",
    "# 특급의 갯수\n",
    "size = df_1[df_1['LabelName']=='high'].shape[0]\n",
    "#\n",
    "def perm_test(table):\n",
    "    # 섞는 과정\n",
    "    shuffled_col = (table['LabelName'].sample(replace=False,frac=1).reset_index(drop=True))\n",
    "    added_shuffle = table.assign(**{'shuffled': shuffled_col})\n",
    "    mean_diff = pd.pivot_table(added_shuffle, values=\"Width\",index=['shuffled'], aggfunc=np.mean)\n",
    "    mean_diff = (mean_diff.values[0] - mean_diff.values[1])[0]\n",
    "    return mean_diff\n",
    "\n",
    "results = [perm_test(df_1) for i in np.arange(N)]"
   ]
  },
  {
   "cell_type": "code",
   "execution_count": 136,
   "metadata": {
    "pycharm": {
     "name": "#%%\n"
    }
   },
   "outputs": [
    {
     "data": {
      "text/plain": [
       "0.0"
      ]
     },
     "execution_count": 136,
     "metadata": {},
     "output_type": "execute_result"
    }
   ],
   "source": [
    "# p-value 계산\n",
    "simul = pd.Series(np.array(results))\n",
    "p_val = np.count_nonzero(simul >= obs)/1000\n",
    "p_val"
   ]
  },
  {
   "cell_type": "code",
   "execution_count": 137,
   "metadata": {
    "pycharm": {
     "name": "#%%\n"
    }
   },
   "outputs": [
    {
     "data": {
      "text/plain": [
       "<matplotlib.collections.PathCollection at 0x24d5a101b50>"
      ]
     },
     "execution_count": 137,
     "metadata": {},
     "output_type": "execute_result"
    },
    {
     "data": {
      "image/png": "[encoded data removed]",
      "text/plain": [
       "<Figure size 432x288 with 1 Axes>"
      ]
     },
     "metadata": {
      "needs_background": "light"
     },
     "output_type": "display_data"
    }
   ],
   "source": [
    "# 시각화\n",
    "pd.Series(simul).plot(kind='hist', title='Width Permutation Test')\n",
    "plt.scatter(obs,2,color='r',s=20)"
   ]
  },
  {
   "cell_type": "markdown",
   "metadata": {},
   "source": [
    "#### 상급과 보통 비교"
   ]
  },
  {
   "cell_type": "code",
   "execution_count": 138,
   "metadata": {},
   "outputs": [
    {
     "data": {
      "image/png": "[encoded data removed]",
      "text/plain": [
       "<Figure size 432x288 with 1 Axes>"
      ]
     },
     "metadata": {
      "needs_background": "light"
     },
     "output_type": "display_data"
    }
   ],
   "source": [
    "plt.hist(df_m['Height'])\n",
    "plt.axvline(x = df_m['Height'].mean(), linewidth = 2, color = 'r')\n",
    "plt.show()"
   ]
  },
  {
   "cell_type": "code",
   "execution_count": 139,
   "metadata": {},
   "outputs": [
    {
     "data": {
      "image/png": "[encoded data removed]",
      "text/plain": [
       "<Figure size 432x288 with 1 Axes>"
      ]
     },
     "metadata": {
      "needs_background": "light"
     },
     "output_type": "display_data"
    }
   ],
   "source": [
    "plt.hist(df_m['Width'])\n",
    "plt.axvline(x = df_m['Width'].mean(), linewidth = 2, color = 'r')\n",
    "plt.show()"
   ]
  },
  {
   "cell_type": "code",
   "execution_count": 140,
   "metadata": {},
   "outputs": [
    {
     "data": {
      "image/png": "[encoded data removed]",
      "text/plain": [
       "<Figure size 432x288 with 1 Axes>"
      ]
     },
     "metadata": {
      "needs_background": "light"
     },
     "output_type": "display_data"
    }
   ],
   "source": [
    "plt.hist(df_l['Height'])\n",
    "plt.axvline(x = df_l['Height'].mean(), linewidth = 2, color = 'r')\n",
    "plt.show()"
   ]
  },
  {
   "cell_type": "code",
   "execution_count": 141,
   "metadata": {},
   "outputs": [
    {
     "data": {
      "image/png": "[encoded data removed]",
      "text/plain": [
       "<Figure size 432x288 with 1 Axes>"
      ]
     },
     "metadata": {
      "needs_background": "light"
     },
     "output_type": "display_data"
    }
   ],
   "source": [
    "plt.hist(df_l['Width'])\n",
    "plt.axvline(x = df_l['Width'].mean(), linewidth = 2, color = 'r')\n",
    "plt.show()"
   ]
  },
  {
   "cell_type": "markdown",
   "metadata": {},
   "source": [
    "#### 크기(Height) 테스트"
   ]
  },
  {
   "cell_type": "code",
   "execution_count": 150,
   "metadata": {},
   "outputs": [
    {
     "data": {
      "text/plain": [
       "1.0666666666666664"
      ]
     },
     "execution_count": 150,
     "metadata": {},
     "output_type": "execute_result"
    }
   ],
   "source": [
    "# 관측치 = 특급과 상급의 높이 차이점\n",
    "pivot_tb = pd.pivot_table(df_2, values=\"Height\",index=['LabelName'], aggfunc=np.mean)\n",
    "obs = (pivot_tb.values[1] - pivot_tb.values[0])[0]# 관측치 계산(observation) - 특급의 평균 크기\n",
    "obs"
   ]
  },
  {
   "cell_type": "code",
   "execution_count": 151,
   "metadata": {},
   "outputs": [],
   "source": [
    "# 랜덤 셔플링 코드\n",
    "# 1000번 샘플링을 할것\n",
    "N = 1000\n",
    "# 특급의 갯수\n",
    "size = df_2[df_2['LabelName']=='medium'].shape[0]\n",
    "#\n",
    "def perm_test(table):\n",
    "    # 섞는 과정\n",
    "    shuffled_col = (table['LabelName'].sample(replace=False,frac=1).reset_index(drop=True))\n",
    "    added_shuffle = table.assign(**{'shuffled': shuffled_col})\n",
    "    mean_diff = pd.pivot_table(added_shuffle, values=\"Height\",index=['shuffled'], aggfunc=np.mean)\n",
    "    mean_diff = (mean_diff.values[1] - mean_diff.values[0])[0]\n",
    "    return mean_diff\n",
    "\n",
    "results = [perm_test(df_2) for i in np.arange(N)]"
   ]
  },
  {
   "cell_type": "code",
   "execution_count": 152,
   "metadata": {},
   "outputs": [
    {
     "data": {
      "text/plain": [
       "0.0"
      ]
     },
     "execution_count": 152,
     "metadata": {},
     "output_type": "execute_result"
    }
   ],
   "source": [
    "# p-value 계산\n",
    "simul = pd.Series(np.array(results))\n",
    "p_val = np.count_nonzero(simul >= obs)/1000\n",
    "p_val"
   ]
  },
  {
   "cell_type": "code",
   "execution_count": 153,
   "metadata": {},
   "outputs": [
    {
     "data": {
      "text/plain": [
       "<matplotlib.collections.PathCollection at 0x24d58cc3850>"
      ]
     },
     "execution_count": 153,
     "metadata": {},
     "output_type": "execute_result"
    },
    {
     "data": {
      "image/png": "[encoded data removed]",
      "text/plain": [
       "<Figure size 432x288 with 1 Axes>"
      ]
     },
     "metadata": {
      "needs_background": "light"
     },
     "output_type": "display_data"
    }
   ],
   "source": [
    "# 시각화\n",
    "pd.Series(simul).plot(kind='hist', title='Height Permutation Test')\n",
    "plt.scatter(obs,2,color='r',s=20)"
   ]
  },
  {
   "cell_type": "code",
   "execution_count": 156,
   "metadata": {},
   "outputs": [
    {
     "data": {
      "text/plain": [
       "1.085"
      ]
     },
     "execution_count": 156,
     "metadata": {},
     "output_type": "execute_result"
    }
   ],
   "source": [
    "# 관측치 = 특급과 상급의 높이 차이점\n",
    "pivot_tb = pd.pivot_table(df_2, values=\"Width\",index=['LabelName'], aggfunc=np.mean)\n",
    "obs = (pivot_tb.values[1] - pivot_tb.values[0])[0]# 관측치 계산(observation) - 특급의 평균 크기\n",
    "obs"
   ]
  },
  {
   "cell_type": "code",
   "execution_count": 157,
   "metadata": {},
   "outputs": [],
   "source": [
    "# 랜덤 셔플링 코드\n",
    "# 1000번 샘플링을 할것\n",
    "N = 1000\n",
    "# 특급의 갯수\n",
    "size = df_2[df_2['LabelName']=='medium'].shape[0]\n",
    "#\n",
    "def perm_test(table):\n",
    "    # 섞는 과정\n",
    "    shuffled_col = (table['LabelName'].sample(replace=False,frac=1).reset_index(drop=True))\n",
    "    added_shuffle = table.assign(**{'shuffled': shuffled_col})\n",
    "    mean_diff = pd.pivot_table(added_shuffle, values=\"Width\",index=['shuffled'], aggfunc=np.mean)\n",
    "    mean_diff = (mean_diff.values[1] - mean_diff.values[0])[0]\n",
    "    return mean_diff\n",
    "\n",
    "results = [perm_test(df_2) for i in np.arange(N)]"
   ]
  },
  {
   "cell_type": "code",
   "execution_count": 158,
   "metadata": {},
   "outputs": [
    {
     "data": {
      "text/plain": [
       "<matplotlib.collections.PathCollection at 0x24d587fe670>"
      ]
     },
     "execution_count": 158,
     "metadata": {},
     "output_type": "execute_result"
    },
    {
     "data": {
      "image/png": "[encoded data removed]",
      "text/plain": [
       "<Figure size 432x288 with 1 Axes>"
      ]
     },
     "metadata": {
      "needs_background": "light"
     },
     "output_type": "display_data"
    }
   ],
   "source": [
    "# 시각화\n",
    "pd.Series(simul).plot(kind='hist', title='Width Permutation Test')\n",
    "plt.scatter(obs,2,color='r',s=20)"
   ]
  },
  {
   "cell_type": "code",
   "execution_count": null,
   "metadata": {},
   "outputs": [],
   "source": []
  }
 ],
 "metadata": {
  "kernelspec": {
   "display_name": "Python 3 (ipykernel)",
   "language": "python",
   "name": "python3"
  },
  "language_info": {
   "codemirror_mode": {
    "name": "ipython",
    "version": 3
   },
   "file_extension": ".py",
   "mimetype": "text/x-python",
   "name": "python",
   "nbconvert_exporter": "python",
   "pygments_lexer": "ipython3",
   "version": "3.9.7"
  }
 },
 "nbformat": 4,
 "nbformat_minor": 1
}
