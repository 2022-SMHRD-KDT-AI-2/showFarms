{
 "cells": [
  {
   "cell_type": "markdown",
   "source": [
    "## 문제 정의\n",
    "\n",
    "YOLOv5를 사용한 색상, 흠집에 대한 이미지 학습으로 등급을 정확하게 분류하기에는 한계가 있음\n",
    "실제로 무게와 당도가 등급 분류에 영향을 미침\n",
    "특히 특급, 상급은 비슷한 이미지가 많아 정확성이 30%대로 매우 낮은 수치에 해당함\n",
    "따라서 무게를 추론 해낼 수 있는 넓이, 높이와 같은 크기 수치와 등급의 상관 관계 분석을 실시\n",
    "\n",
    "<br>\n",
    "\n",
    "- 귀무 가설(Null Hypothesis) : 크기와 넓이가 특급, 상급 등급 분류에 영향을 주지 않는다.\n",
    "\n",
    "- 대안 가설(Alternative Hypothesis) : 크기와 넓이가 특급, 상급 등급 분류에 영향을 준다."
   ],
   "metadata": {
    "collapsed": false,
    "pycharm": {
     "name": "#%% md\n"
    }
   }
  },
  {
   "cell_type": "markdown",
   "source": [
    "## 데이터 전처리 (Data Preprocessing)"
   ],
   "metadata": {
    "collapsed": false,
    "pycharm": {
     "name": "#%% md\n"
    }
   }
  },
  {
   "cell_type": "code",
   "execution_count": 4,
   "outputs": [],
   "source": [
    "# 사용 라이브러리 임포트\n",
    "\n",
    "import numpy as np\n",
    "import pandas as pd\n",
    "from random import sample"
   ],
   "metadata": {
    "collapsed": false,
    "pycharm": {
     "name": "#%%\n"
    }
   }
  },
  {
   "cell_type": "code",
   "execution_count": 8,
   "outputs": [
    {
     "data": {
      "text/plain": "           ImageID LabelName  Width  Height\n0   apple_fuji_L_1      high    9.7     9.0\n1  apple_fuji_L_10      high    9.6     8.9\n2  apple_fuji_L_11      high    9.4     8.7\n3  apple_fuji_L_12      high    9.7     8.7\n4  apple_fuji_L_13      high    9.7     9.4",
      "text/html": "<div>\n<style scoped>\n    .dataframe tbody tr th:only-of-type {\n        vertical-align: middle;\n    }\n\n    .dataframe tbody tr th {\n        vertical-align: top;\n    }\n\n    .dataframe thead th {\n        text-align: right;\n    }\n</style>\n<table border=\"1\" class=\"dataframe\">\n  <thead>\n    <tr style=\"text-align: right;\">\n      <th></th>\n      <th>ImageID</th>\n      <th>LabelName</th>\n      <th>Width</th>\n      <th>Height</th>\n    </tr>\n  </thead>\n  <tbody>\n    <tr>\n      <th>0</th>\n      <td>apple_fuji_L_1</td>\n      <td>high</td>\n      <td>9.7</td>\n      <td>9.0</td>\n    </tr>\n    <tr>\n      <th>1</th>\n      <td>apple_fuji_L_10</td>\n      <td>high</td>\n      <td>9.6</td>\n      <td>8.9</td>\n    </tr>\n    <tr>\n      <th>2</th>\n      <td>apple_fuji_L_11</td>\n      <td>high</td>\n      <td>9.4</td>\n      <td>8.7</td>\n    </tr>\n    <tr>\n      <th>3</th>\n      <td>apple_fuji_L_12</td>\n      <td>high</td>\n      <td>9.7</td>\n      <td>8.7</td>\n    </tr>\n    <tr>\n      <th>4</th>\n      <td>apple_fuji_L_13</td>\n      <td>high</td>\n      <td>9.7</td>\n      <td>9.4</td>\n    </tr>\n  </tbody>\n</table>\n</div>"
     },
     "execution_count": 8,
     "metadata": {},
     "output_type": "execute_result"
    }
   ],
   "source": [
    "# 데이터 프레임 로드\n",
    "df = pd.read_csv(\"data/dataset.csv\")\n",
    "df.head()\n",
    "# High는 특급, Medium은 상급, Low는 보통급에 해당함"
   ],
   "metadata": {
    "collapsed": false,
    "pycharm": {
     "name": "#%%\n"
    }
   }
  },
  {
   "cell_type": "code",
   "execution_count": null,
   "outputs": [],
   "source": [
    "# 특급과 상급을 비교하기 위해 보통은 데이터프레임으로부터 제외\n",
    "filtered = # 여기에 슬라이싱 사용해서 high랑 medium 남게 할것"
   ],
   "metadata": {
    "collapsed": false,
    "pycharm": {
     "name": "#%%\n"
    }
   }
  },
  {
   "cell_type": "markdown",
   "source": [
    "## 탐색적 데이터 분석 (EDA)"
   ],
   "metadata": {
    "collapsed": false,
    "pycharm": {
     "name": "#%% md\n"
    }
   }
  },
  {
   "cell_type": "markdown",
   "source": [
    "### 데이터 분석 (Data analysis)"
   ],
   "metadata": {
    "collapsed": false,
    "pycharm": {
     "name": "#%% md\n"
    }
   }
  },
  {
   "cell_type": "code",
   "execution_count": null,
   "outputs": [],
   "source": [
    "# 특급과 상급 크기, 넓이 평균값 비교"
   ],
   "metadata": {
    "collapsed": false,
    "pycharm": {
     "name": "#%%\n"
    }
   }
  },
  {
   "cell_type": "markdown",
   "source": [
    "### 시각화(Visualization)"
   ],
   "metadata": {
    "collapsed": false,
    "pycharm": {
     "name": "#%% md\n"
    }
   }
  },
  {
   "cell_type": "code",
   "execution_count": null,
   "outputs": [],
   "source": [
    "# 등급에 따른 Height 분포 (히스토그램 사용)"
   ],
   "metadata": {
    "collapsed": false,
    "pycharm": {
     "name": "#%%\n"
    }
   }
  },
  {
   "cell_type": "code",
   "execution_count": null,
   "outputs": [],
   "source": [
    "# 등급에 따른 width 분포 (히스토그램 사용)"
   ],
   "metadata": {
    "collapsed": false,
    "pycharm": {
     "name": "#%%\n"
    }
   }
  },
  {
   "cell_type": "markdown",
   "source": [
    "### 순열검정법 (Permutation test)\n",
    "\n",
    "##### 전체 순열 검정법 (exhaustive permutation test)\n",
    "- 만약 히스토그램의 분포도가 정규 분포에 해당하면 실시\n",
    "##### 부트스트래핑 (Bootstrapping)\n",
    "- 만약 히스토그램의 분포도가 정규 분포에 해당하지 않으면 실시\n",
    "\n",
    "##### 두 방법의 차이점\n",
    "- 전체 순열 검정은 재표본추출(샘플링) 할때 중복 되지 않도록 한다. 했던 것을 다시 뽑으면 안됨\n",
    "- 부트스트래핑은 재표본추출(샘플링) 할때 중복 될 수도 있도록 한다. 했던 것을 다시 뽑아도 됨\n"
   ],
   "metadata": {
    "collapsed": false,
    "pycharm": {
     "name": "#%% md\n"
    }
   }
  },
  {
   "cell_type": "markdown",
   "source": [
    "#### 크기(Height) 테스트"
   ],
   "metadata": {
    "collapsed": false,
    "pycharm": {
     "name": "#%% md\n"
    }
   }
  },
  {
   "cell_type": "code",
   "execution_count": null,
   "outputs": [],
   "source": [
    "obs = # 관측치 계산(observation) - 특급의 평균 크기"
   ],
   "metadata": {
    "collapsed": false,
    "pycharm": {
     "name": "#%%\n"
    }
   }
  },
  {
   "cell_type": "code",
   "execution_count": 9,
   "outputs": [],
   "source": [
    "# 랜덤 셔플링 코드"
   ],
   "metadata": {
    "collapsed": false,
    "pycharm": {
     "name": "#%%\n"
    }
   }
  },
  {
   "cell_type": "code",
   "execution_count": 10,
   "outputs": [],
   "source": [
    "# p-value 계산"
   ],
   "metadata": {
    "collapsed": false,
    "pycharm": {
     "name": "#%%\n"
    }
   }
  },
  {
   "cell_type": "code",
   "execution_count": null,
   "outputs": [],
   "source": [
    "# 시각화"
   ],
   "metadata": {
    "collapsed": false,
    "pycharm": {
     "name": "#%%\n"
    }
   }
  },
  {
   "cell_type": "markdown",
   "source": [
    "#### 넓이(Width) 테스트"
   ],
   "metadata": {
    "collapsed": false,
    "pycharm": {
     "name": "#%% md\n"
    }
   }
  },
  {
   "cell_type": "code",
   "execution_count": null,
   "outputs": [],
   "source": [
    "obs = # 관측치 계산(observation) - 특급의 평균 크기"
   ],
   "metadata": {
    "collapsed": false,
    "pycharm": {
     "name": "#%%\n"
    }
   }
  },
  {
   "cell_type": "code",
   "execution_count": null,
   "outputs": [],
   "source": [
    "# 랜덤 셔플링 코드"
   ],
   "metadata": {
    "collapsed": false,
    "pycharm": {
     "name": "#%%\n"
    }
   }
  },
  {
   "cell_type": "code",
   "execution_count": null,
   "outputs": [],
   "source": [
    "# p-value 계산"
   ],
   "metadata": {
    "collapsed": false,
    "pycharm": {
     "name": "#%%\n"
    }
   }
  },
  {
   "cell_type": "code",
   "execution_count": null,
   "outputs": [],
   "source": [
    "# 시각화"
   ],
   "metadata": {
    "collapsed": false,
    "pycharm": {
     "name": "#%%\n"
    }
   }
  }
 ],
 "metadata": {
  "kernelspec": {
   "display_name": "Python 3",
   "language": "python",
   "name": "python3"
  },
  "language_info": {
   "codemirror_mode": {
    "name": "ipython",
    "version": 2
   },
   "file_extension": ".py",
   "mimetype": "text/x-python",
   "name": "python",
   "nbconvert_exporter": "python",
   "pygments_lexer": "ipython2",
   "version": "2.7.6"
  }
 },
 "nbformat": 4,
 "nbformat_minor": 0
}