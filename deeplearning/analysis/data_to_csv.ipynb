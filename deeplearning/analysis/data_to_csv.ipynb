{
 "cells": [
  {
   "cell_type": "code",
   "execution_count": 30,
   "metadata": {
    "collapsed": true,
    "pycharm": {
     "name": "#%%\n"
    }
   },
   "outputs": [],
   "source": [
    "import pandas as pd\n",
    "import os\n",
    "import re"
   ]
  },
  {
   "cell_type": "code",
   "execution_count": 1,
   "outputs": [],
   "source": [
    "directory = \"data/json\""
   ],
   "metadata": {
    "collapsed": false,
    "pycharm": {
     "name": "#%%\n"
    }
   }
  },
  {
   "cell_type": "code",
   "execution_count": 19,
   "outputs": [],
   "source": [
    "df = pd.DataFrame(columns = ['ImageID','LabelName','Width','Height'])\n",
    "for i,j in enumerate(os.listdir(directory)):\n",
    "    json_dir = os.path.join(directory, j)\n",
    "    try :\n",
    "        file = pd.read_json(json_dir)\n",
    "    except :\n",
    "        break\n",
    "\n",
    "    temp = pd.DataFrame({'ImageID':j[:-5],'LabelName':file.iloc[0,6],'Width':file.iloc[0,7],'Height':file.iloc[0,8]}, index = [i])\n",
    "    df = pd.concat([df, temp])"
   ],
   "metadata": {
    "collapsed": false,
    "pycharm": {
     "name": "#%%\n"
    }
   }
  },
  {
   "cell_type": "code",
   "execution_count": 91,
   "outputs": [],
   "source": [
    "re_df = df.copy()\n",
    "re_df['ImageID'] = df['ImageID'].apply(lambda x : re.sub(r'-+[0-9]+_+[A-Z0-9]{2,8}','',x))"
   ],
   "metadata": {
    "collapsed": false,
    "pycharm": {
     "name": "#%%\n"
    }
   }
  },
  {
   "cell_type": "code",
   "execution_count": 97,
   "outputs": [
    {
     "data": {
      "text/plain": "                LabelName  Width  Height\nImageID                                 \napple_fuji_L_1          특    9.7     9.0\napple_fuji_L_10         특    9.6     8.9\napple_fuji_L_11         특    9.4     8.7\napple_fuji_L_12         특    9.7     8.7\napple_fuji_L_13         특    9.7     9.4\n...                   ...    ...     ...\napple_fuji_S_6         보통    7.8     6.6\napple_fuji_S_60        보통    7.5     6.5\napple_fuji_S_7         보통    7.5     7.0\napple_fuji_S_8         보통    7.8     7.1\napple_fuji_S_9         보통    7.5     6.5\n\n[180 rows x 3 columns]",
      "text/html": "<div>\n<style scoped>\n    .dataframe tbody tr th:only-of-type {\n        vertical-align: middle;\n    }\n\n    .dataframe tbody tr th {\n        vertical-align: top;\n    }\n\n    .dataframe thead th {\n        text-align: right;\n    }\n</style>\n<table border=\"1\" class=\"dataframe\">\n  <thead>\n    <tr style=\"text-align: right;\">\n      <th></th>\n      <th>LabelName</th>\n      <th>Width</th>\n      <th>Height</th>\n    </tr>\n    <tr>\n      <th>ImageID</th>\n      <th></th>\n      <th></th>\n      <th></th>\n    </tr>\n  </thead>\n  <tbody>\n    <tr>\n      <th>apple_fuji_L_1</th>\n      <td>특</td>\n      <td>9.7</td>\n      <td>9.0</td>\n    </tr>\n    <tr>\n      <th>apple_fuji_L_10</th>\n      <td>특</td>\n      <td>9.6</td>\n      <td>8.9</td>\n    </tr>\n    <tr>\n      <th>apple_fuji_L_11</th>\n      <td>특</td>\n      <td>9.4</td>\n      <td>8.7</td>\n    </tr>\n    <tr>\n      <th>apple_fuji_L_12</th>\n      <td>특</td>\n      <td>9.7</td>\n      <td>8.7</td>\n    </tr>\n    <tr>\n      <th>apple_fuji_L_13</th>\n      <td>특</td>\n      <td>9.7</td>\n      <td>9.4</td>\n    </tr>\n    <tr>\n      <th>...</th>\n      <td>...</td>\n      <td>...</td>\n      <td>...</td>\n    </tr>\n    <tr>\n      <th>apple_fuji_S_6</th>\n      <td>보통</td>\n      <td>7.8</td>\n      <td>6.6</td>\n    </tr>\n    <tr>\n      <th>apple_fuji_S_60</th>\n      <td>보통</td>\n      <td>7.5</td>\n      <td>6.5</td>\n    </tr>\n    <tr>\n      <th>apple_fuji_S_7</th>\n      <td>보통</td>\n      <td>7.5</td>\n      <td>7.0</td>\n    </tr>\n    <tr>\n      <th>apple_fuji_S_8</th>\n      <td>보통</td>\n      <td>7.8</td>\n      <td>7.1</td>\n    </tr>\n    <tr>\n      <th>apple_fuji_S_9</th>\n      <td>보통</td>\n      <td>7.5</td>\n      <td>6.5</td>\n    </tr>\n  </tbody>\n</table>\n<p>180 rows × 3 columns</p>\n</div>"
     },
     "execution_count": 97,
     "metadata": {},
     "output_type": "execute_result"
    }
   ],
   "source": [
    "removed_duplicate = re_df.groupby(\"ImageID\").agg(max)\n",
    "removed_duplicate"
   ],
   "metadata": {
    "collapsed": false,
    "pycharm": {
     "name": "#%%\n"
    }
   }
  },
  {
   "cell_type": "code",
   "execution_count": 98,
   "outputs": [],
   "source": [
    "def convert(string):\n",
    "    if string == \"특\":\n",
    "        return \"high\"\n",
    "    elif string == \"상\":\n",
    "        return \"medium\"\n",
    "    else:\n",
    "        return \"low\"\n",
    "removed_duplicate['LabelName'] = removed_duplicate['LabelName'].apply(convert)"
   ],
   "metadata": {
    "collapsed": false,
    "pycharm": {
     "name": "#%%\n"
    }
   }
  },
  {
   "cell_type": "code",
   "execution_count": 100,
   "outputs": [],
   "source": [
    "removed_duplicate.to_csv('data/dataset.csv', encoding='utf-8')"
   ],
   "metadata": {
    "collapsed": false,
    "pycharm": {
     "name": "#%%\n"
    }
   }
  }
 ],
 "metadata": {
  "kernelspec": {
   "display_name": "Python 3",
   "language": "python",
   "name": "python3"
  },
  "language_info": {
   "codemirror_mode": {
    "name": "ipython",
    "version": 2
   },
   "file_extension": ".py",
   "mimetype": "text/x-python",
   "name": "python",
   "nbconvert_exporter": "python",
   "pygments_lexer": "ipython2",
   "version": "2.7.6"
  }
 },
 "nbformat": 4,
 "nbformat_minor": 0
}