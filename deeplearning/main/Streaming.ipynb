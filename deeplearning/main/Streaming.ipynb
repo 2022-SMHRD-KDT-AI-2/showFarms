{
 "cells": [
  {
   "cell_type": "code",
   "execution_count": 1,
   "outputs": [],
   "source": [
    "import argparse\n",
    "import io\n",
    "import cv2\n",
    "import torch\n",
    "from flask import Flask, request\n",
    "from PIL import Image\n",
    "import yolov5"
   ],
   "metadata": {
    "collapsed": false,
    "pycharm": {
     "name": "#%%\n"
    }
   }
  },
  {
   "cell_type": "code",
   "execution_count": 2,
   "outputs": [
    {
     "name": "stdout",
     "output_type": "stream",
     "text": [
      "C:\\Users\\smhrd\\Desktop\\Dectecting\\main\\yolov5\n"
     ]
    }
   ],
   "source": [
    "%cd yolov5"
   ],
   "metadata": {
    "collapsed": false,
    "pycharm": {
     "name": "#%%\n"
    }
   }
  },
  {
   "cell_type": "code",
   "execution_count": 5,
   "outputs": [],
   "source": [
    "img = \"../test.png\"\n",
    "weight = \"./runs/train/exp2/weights/best.pt\""
   ],
   "metadata": {
    "collapsed": false,
    "pycharm": {
     "name": "#%%\n"
    }
   }
  },
  {
   "cell_type": "code",
   "execution_count": 7,
   "outputs": [
    {
     "name": "stdout",
     "output_type": "stream",
     "text": [
      "Model: \"model\"\n",
      "__________________________________________________________________________________________________\n",
      " Layer (type)                   Output Shape         Param #     Connected to                     \n",
      "==================================================================================================\n",
      " input_1 (InputLayer)           [(1, 640, 640, 3)]   0           []                               \n",
      "                                                                                                  \n",
      " tf_conv (TFConv)               (1, 320, 320, 48)    5232        ['input_1[0][0]']                \n",
      "                                                                                                  \n",
      " tf_conv_1 (TFConv)             (1, 160, 160, 96)    41568       ['tf_conv[0][0]']                \n",
      "                                                                                                  \n",
      " tfc3 (TFC3)                    (1, 160, 160, 96)    64896       ['tf_conv_1[0][0]']              \n",
      "                                                                                                  \n",
      " tf_conv_9 (TFConv)             (1, 80, 80, 192)     166080      ['tfc3[0][0]']                   \n",
      "                                                                                                  \n",
      " tfc3_1 (TFC3)                  (1, 80, 80, 192)     443520      ['tf_conv_9[0][0]']              \n",
      "                                                                                                  \n",
      " tf_conv_21 (TFConv)            (1, 40, 40, 384)     663936      ['tfc3_1[0][0]']                 \n",
      "                                                                                                  \n",
      " tfc3_2 (TFC3)                  (1, 40, 40, 384)     2509824     ['tf_conv_21[0][0]']             \n",
      "                                                                                                  \n",
      " tf_conv_37 (TFConv)            (1, 20, 20, 768)     2654976     ['tfc3_2[0][0]']                 \n",
      "                                                                                                  \n",
      " tfc3_3 (TFC3)                  (1, 20, 20, 768)     4131840     ['tf_conv_37[0][0]']             \n",
      "                                                                                                  \n",
      " tfsppf (TFSPPF)                (1, 20, 20, 768)     1475712     ['tfc3_3[0][0]']                 \n",
      "                                                                                                  \n",
      " tf_conv_47 (TFConv)            (1, 20, 20, 384)     295296      ['tfsppf[0][0]']                 \n",
      "                                                                                                  \n",
      " tf_upsample (TFUpsample)       (1, 40, 40, 384)     0           ['tf_conv_47[0][0]']             \n",
      "                                                                                                  \n",
      " tf_concat (TFConcat)           (1, 40, 40, 768)     0           ['tf_upsample[0][0]',            \n",
      "                                                                  'tfc3_2[0][0]']                 \n",
      "                                                                                                  \n",
      " tfc3_4 (TFC3)                  (1, 40, 40, 384)     1181184     ['tf_concat[0][0]']              \n",
      "                                                                                                  \n",
      " tf_conv_55 (TFConv)            (1, 40, 40, 192)     73920       ['tfc3_4[0][0]']                 \n",
      "                                                                                                  \n",
      " tf_upsample_1 (TFUpsample)     (1, 80, 80, 192)     0           ['tf_conv_55[0][0]']             \n",
      "                                                                                                  \n",
      " tf_concat_1 (TFConcat)         (1, 80, 80, 384)     0           ['tf_upsample_1[0][0]',          \n",
      "                                                                  'tfc3_1[0][0]']                 \n",
      "                                                                                                  \n",
      " tfc3_5 (TFC3)                  (1, 80, 80, 192)     295680      ['tf_concat_1[0][0]']            "
     ]
    },
    {
     "name": "stderr",
     "output_type": "stream",
     "text": [
      "\u001B[34m\u001B[1mexport: \u001B[0mdata=C:\\Users\\smhrd\\Desktop\\Dectecting\\main\\yolov5\\data\\coco128.yaml, weights=['./runs/train/exp2/weights/best.pt'], imgsz=[640, 640], batch_size=1, device=cpu, half=False, inplace=False, train=False, optimize=False, int8=False, dynamic=False, simplify=False, opset=12, verbose=False, workspace=4, nms=False, agnostic_nms=False, topk_per_class=100, topk_all=100, iou_thres=0.45, conf_thres=0.25, include=['saved_model']\n",
      "YOLOv5  v6.1-202-g7d46c69 Python-3.9.12 torch-1.11.0 CPU\n",
      "\n",
      "Fusing layers... \n",
      "YOLOv5m summary: 290 layers, 20861016 parameters, 0 gradients, 48.0 GFLOPs\n",
      "\n",
      "\u001B[34m\u001B[1mPyTorch:\u001B[0m starting from runs\\train\\exp2\\weights\\best.pt with output shape (1, 25200, 8) (40.3 MB)\n",
      "\n",
      "\u001B[34m\u001B[1mTensorFlow SavedModel:\u001B[0m starting export with tensorflow 2.8.0...\n",
      "\n",
      "                 from  n    params  module                                  arguments                     \n",
      "2022-05-19 15:48:43.236649: E tensorflow/stream_executor/cuda/cuda_driver.cc:271] failed call to cuInit: CUDA_ERROR_NO_DEVICE: no CUDA-capable device is detected\n",
      "2022-05-19 15:48:43.239323: I tensorflow/stream_executor/cuda/cuda_diagnostics.cc:169] retrieving CUDA diagnostic information for host: DESKTOP-HNM14KO\n",
      "2022-05-19 15:48:43.239372: I tensorflow/stream_executor/cuda/cuda_diagnostics.cc:176] hostname: DESKTOP-HNM14KO\n",
      "2022-05-19 15:48:43.241127: I tensorflow/core/platform/cpu_feature_guard.cc:151] This TensorFlow binary is optimized with oneAPI Deep Neural Network Library (oneDNN) to use the following CPU instructions in performance-critical operations:  AVX AVX2\n",
      "To enable them in other operations, rebuild TensorFlow with the appropriate compiler flags.\n",
      "  0                -1  1      5280  models.common.Conv                      [3, 48, 6, 2, 2]              \n",
      "  1                -1  1     41664  models.common.Conv                      [48, 96, 3, 2]                \n",
      "  2                -1  1     65280  models.common.C3                        [96, 96, 2]                   \n",
      "  3                -1  1    166272  models.common.Conv                      [96, 192, 3, 2]               \n",
      "  4                -1  1    444672  models.common.C3                        [192, 192, 4]                 \n",
      "  5                -1  1    664320  models.common.Conv                      [192, 384, 3, 2]              \n",
      "  6                -1  1   2512896  models.common.C3                        [384, 384, 6]                 \n",
      "  7                -1  1   2655744  models.common.Conv                      [384, 768, 3, 2]              \n",
      "  8                -1  1   4134912  models.common.C3                        [768, 768, 2]                 \n",
      "  9                -1  1   1476864  models.common.SPPF                      [768, 768, 5]                 \n",
      " 10                -1  1    295680  models.common.Conv                      [768, 384, 1, 1]              \n",
      " 11                -1  1         0  torch.nn.modules.upsampling.Upsample    [None, 2, 'nearest']          \n",
      " 12           [-1, 6]  1         0  models.common.Concat                    [1]                           \n",
      " 13                -1  1   1182720  models.common.C3                        [768, 384, 2, False]          \n",
      " 14                -1  1     74112  models.common.Conv                      [384, 192, 1, 1]              \n",
      " 15                -1  1         0  torch.nn.modules.upsampling.Upsample    [None, 2, 'nearest']          \n",
      " 16           [-1, 4]  1         0  models.common.Concat                    [1]                           \n",
      " 17                -1  1    296448  models.common.C3                        [384, 192, 2, False]          \n",
      " 18                -1  1    332160  models.common.Conv                      [192, 192, 3, 2]              \n",
      " 19          [-1, 14]  1         0  models.common.Concat                    [1]                           \n",
      " 20                -1  1   1035264  models.common.C3                        [384, 384, 2, False]          \n",
      " 21                -1  1   1327872  models.common.Conv                      [384, 384, 3, 2]              \n",
      " 22          [-1, 10]  1         0  models.common.Concat                    [1]                           \n",
      " 23                -1  1   4134912  models.common.C3                        [768, 768, 2, False]          \n",
      " 24      [17, 20, 23]  1     32328  models.yolo.Detect                      [3, [[10, 13, 16, 30, 33, 23], [30, 61, 62, 45, 59, 119], [116, 90, 156, 198, 373, 326]], [192, 384, 768], [640, 640]]\n",
      "2022-05-19 15:48:46.719961: I tensorflow/core/grappler/devices.cc:66] Number of eligible GPUs (core count >= 8, compute capability >= 0.0): 0\n",
      "2022-05-19 15:48:46.720059: I tensorflow/core/grappler/clusters/single_machine.cc:358] Starting new session\n",
      "2022-05-19 15:48:46.865653: I tensorflow/core/grappler/optimizers/meta_optimizer.cc:1164] Optimization results for grappler item: graph_to_optimize\n",
      "  function_optimizer: function_optimizer did nothing. time = 0.263ms.\n",
      "  function_optimizer: function_optimizer did nothing. time = 0ms.\n",
      "\n",
      "2022-05-19 15:48:51.793325: W tensorflow/python/util/util.cc:368] Sets are not currently considered sequences, but this may change in the future, so consider avoiding using them.\n",
      "Assets written to: runs\\train\\exp2\\weights\\best_saved_model\\assets\n",
      "\u001B[34m\u001B[1mTensorFlow SavedModel:\u001B[0m export success, saved as runs\\train\\exp2\\weights\\best_saved_model (79.9 MB)\n",
      "\n",
      "Export complete (16.13s)\n",
      "Results saved to \u001B[1mC:\\Users\\smhrd\\Desktop\\Dectecting\\main\\yolov5\\runs\\train\\exp2\\weights\u001B[0m\n",
      "Detect:          python detect.py --weights runs\\train\\exp2\\weights\\best_saved_model\n",
      "PyTorch Hub:     model = torch.hub.load('ultralytics/yolov5', 'custom', 'runs\\train\\exp2\\weights\\best_saved_model')\n",
      "Validate:        python val.py --weights runs\\train\\exp2\\weights\\best_saved_model\n",
      "Visualize:       https://netron.app\n"
     ]
    },
    {
     "name": "stdout",
     "output_type": "stream",
     "text": [
      "\n",
      "                                                                                                  \n",
      " tf_conv_63 (TFConv)            (1, 40, 40, 192)     331968      ['tfc3_5[0][0]']                 \n",
      "                                                                                                  \n",
      " tf_concat_2 (TFConcat)         (1, 40, 40, 384)     0           ['tf_conv_63[0][0]',             \n",
      "                                                                  'tf_conv_55[0][0]']             \n",
      "                                                                                                  \n",
      " tfc3_6 (TFC3)                  (1, 40, 40, 384)     1033728     ['tf_concat_2[0][0]']            \n",
      "                                                                                                  \n",
      " tf_conv_71 (TFConv)            (1, 20, 20, 384)     1327488     ['tfc3_6[0][0]']                 \n",
      "                                                                                                  \n",
      " tf_concat_3 (TFConcat)         (1, 20, 20, 768)     0           ['tf_conv_71[0][0]',             \n",
      "                                                                  'tf_conv_47[0][0]']             \n",
      "                                                                                                  \n",
      " tfc3_7 (TFC3)                  (1, 20, 20, 768)     4131840     ['tf_concat_3[0][0]']            \n",
      "                                                                                                  \n",
      " tf_detect (TFDetect)           ((1, 25200, 8),      32328       ['tfc3_5[0][0]',                 \n",
      "                                 [(1, 6400, 3, 8),                'tfc3_6[0][0]',                 \n",
      "                                 (1, 1600, 3, 8),                 'tfc3_7[0][0]']                 \n",
      "                                 (1, 400, 3, 8)])                                                 \n",
      "                                                                                                  \n",
      "==================================================================================================\n",
      "Total params: 20,861,016\n",
      "Trainable params: 0\n",
      "Non-trainable params: 20,861,016\n",
      "__________________________________________________________________________________________________\n"
     ]
    }
   ],
   "source": [
    "!python export.py --weights \"./runs/train/exp2/weights/best.pt\" --include saved_model"
   ],
   "metadata": {
    "collapsed": false,
    "pycharm": {
     "name": "#%%\n"
    }
   }
  },
  {
   "cell_type": "code",
   "execution_count": null,
   "outputs": [],
   "source": [
    "model.save(,weight)"
   ],
   "metadata": {
    "collapsed": false,
    "pycharm": {
     "name": "#%%\n"
    }
   }
  },
  {
   "cell_type": "code",
   "execution_count": 7,
   "outputs": [],
   "source": [
    "load_weight = torch.load(weight)['model'].state_dict()"
   ],
   "metadata": {
    "collapsed": false,
    "pycharm": {
     "name": "#%%\n"
    }
   }
  },
  {
   "cell_type": "code",
   "execution_count": 8,
   "outputs": [],
   "source": [
    "w = str(load_weight[0] if isinstance(load_weight, list) else load_weight)"
   ],
   "metadata": {
    "collapsed": false,
    "pycharm": {
     "name": "#%%\n"
    }
   }
  },
  {
   "cell_type": "code",
   "execution_count": 11,
   "outputs": [
    {
     "ename": "AttributeError",
     "evalue": "'dict' object has no attribute 'autoshape'",
     "output_type": "error",
     "traceback": [
      "\u001B[1;31m---------------------------------------------------------------------------\u001B[0m",
      "\u001B[1;31mAttributeError\u001B[0m                            Traceback (most recent call last)",
      "Input \u001B[1;32mIn [11]\u001B[0m, in \u001B[0;36m<cell line: 1>\u001B[1;34m()\u001B[0m\n\u001B[1;32m----> 1\u001B[0m model \u001B[38;5;241m=\u001B[39m \u001B[43mtorch\u001B[49m\u001B[38;5;241;43m.\u001B[39;49m\u001B[43mload\u001B[49m\u001B[43m(\u001B[49m\u001B[43mweight\u001B[49m\u001B[43m)\u001B[49m\u001B[38;5;241;43m.\u001B[39;49m\u001B[43mautoshape\u001B[49m()\n",
      "\u001B[1;31mAttributeError\u001B[0m: 'dict' object has no attribute 'autoshape'"
     ]
    }
   ],
   "source": [
    "model = torch.load(weight).autoshape()"
   ],
   "metadata": {
    "collapsed": false,
    "pycharm": {
     "name": "#%%\n"
    }
   }
  },
  {
   "cell_type": "code",
   "execution_count": 66,
   "outputs": [
    {
     "ename": "RuntimeError",
     "evalue": "Error(s) in loading state_dict for AutoShape:\n\tMissing key(s) in state_dict: \"model.model.0.conv.weight\", \"model.model.0.bn.weight\", \"model.model.0.bn.bias\", \"model.model.0.bn.running_mean\", \"model.model.0.bn.running_var\", \"model.model.1.conv.weight\", \"model.model.1.bn.weight\", \"model.model.1.bn.bias\", \"model.model.1.bn.running_mean\", \"model.model.1.bn.running_var\", \"model.model.2.cv1.conv.weight\", \"model.model.2.cv1.bn.weight\", \"model.model.2.cv1.bn.bias\", \"model.model.2.cv1.bn.running_mean\", \"model.model.2.cv1.bn.running_var\", \"model.model.2.cv2.conv.weight\", \"model.model.2.cv2.bn.weight\", \"model.model.2.cv2.bn.bias\", \"model.model.2.cv2.bn.running_mean\", \"model.model.2.cv2.bn.running_var\", \"model.model.2.cv3.conv.weight\", \"model.model.2.cv3.bn.weight\", \"model.model.2.cv3.bn.bias\", \"model.model.2.cv3.bn.running_mean\", \"model.model.2.cv3.bn.running_var\", \"model.model.2.m.0.cv1.conv.weight\", \"model.model.2.m.0.cv1.bn.weight\", \"model.model.2.m.0.cv1.bn.bias\", \"model.model.2.m.0.cv1.bn.running_mean\", \"model.model.2.m.0.cv1.bn.running_var\", \"model.model.2.m.0.cv2.conv.weight\", \"model.model.2.m.0.cv2.bn.weight\", \"model.model.2.m.0.cv2.bn.bias\", \"model.model.2.m.0.cv2.bn.running_mean\", \"model.model.2.m.0.cv2.bn.running_var\", \"model.model.2.m.1.cv1.conv.weight\", \"model.model.2.m.1.cv1.bn.weight\", \"model.model.2.m.1.cv1.bn.bias\", \"model.model.2.m.1.cv1.bn.running_mean\", \"model.model.2.m.1.cv1.bn.running_var\", \"model.model.2.m.1.cv2.conv.weight\", \"model.model.2.m.1.cv2.bn.weight\", \"model.model.2.m.1.cv2.bn.bias\", \"model.model.2.m.1.cv2.bn.running_mean\", \"model.model.2.m.1.cv2.bn.running_var\", \"model.model.3.conv.weight\", \"model.model.3.bn.weight\", \"model.model.3.bn.bias\", \"model.model.3.bn.running_mean\", \"model.model.3.bn.running_var\", \"model.model.4.cv1.conv.weight\", \"model.model.4.cv1.bn.weight\", \"model.model.4.cv1.bn.bias\", \"model.model.4.cv1.bn.running_mean\", \"model.model.4.cv1.bn.running_var\", \"model.model.4.cv2.conv.weight\", \"model.model.4.cv2.bn.weight\", \"model.model.4.cv2.bn.bias\", \"model.model.4.cv2.bn.running_mean\", \"model.model.4.cv2.bn.running_var\", \"model.model.4.cv3.conv.weight\", \"model.model.4.cv3.bn.weight\", \"model.model.4.cv3.bn.bias\", \"model.model.4.cv3.bn.running_mean\", \"model.model.4.cv3.bn.running_var\", \"model.model.4.m.0.cv1.conv.weight\", \"model.model.4.m.0.cv1.bn.weight\", \"model.model.4.m.0.cv1.bn.bias\", \"model.model.4.m.0.cv1.bn.running_mean\", \"model.model.4.m.0.cv1.bn.running_var\", \"model.model.4.m.0.cv2.conv.weight\", \"model.model.4.m.0.cv2.bn.weight\", \"model.model.4.m.0.cv2.bn.bias\", \"model.model.4.m.0.cv2.bn.running_mean\", \"model.model.4.m.0.cv2.bn.running_var\", \"model.model.4.m.1.cv1.conv.weight\", \"model.model.4.m.1.cv1.bn.weight\", \"model.model.4.m.1.cv1.bn.bias\", \"model.model.4.m.1.cv1.bn.running_mean\", \"model.model.4.m.1.cv1.bn.running_var\", \"model.model.4.m.1.cv2.conv.weight\", \"model.model.4.m.1.cv2.bn.weight\", \"model.model.4.m.1.cv2.bn.bias\", \"model.model.4.m.1.cv2.bn.running_mean\", \"model.model.4.m.1.cv2.bn.running_var\", \"model.model.4.m.2.cv1.conv.weight\", \"model.model.4.m.2.cv1.bn.weight\", \"model.model.4.m.2.cv1.bn.bias\", \"model.model.4.m.2.cv1.bn.running_mean\", \"model.model.4.m.2.cv1.bn.running_var\", \"model.model.4.m.2.cv2.conv.weight\", \"model.model.4.m.2.cv2.bn.weight\", \"model.model.4.m.2.cv2.bn.bias\", \"model.model.4.m.2.cv2.bn.running_mean\", \"model.model.4.m.2.cv2.bn.running_var\", \"model.model.4.m.3.cv1.conv.weight\", \"model.model.4.m.3.cv1.bn.weight\", \"model.model.4.m.3.cv1.bn.bias\", \"model.model.4.m.3.cv1.bn.running_mean\", \"model.model.4.m.3.cv1.bn.running_var\", \"model.model.4.m.3.cv2.conv.weight\", \"model.model.4.m.3.cv2.bn.weight\", \"model.model.4.m.3.cv2.bn.bias\", \"model.model.4.m.3.cv2.bn.running_mean\", \"model.model.4.m.3.cv2.bn.running_var\", \"model.model.5.conv.weight\", \"model.model.5.bn.weight\", \"model.model.5.bn.bias\", \"model.model.5.bn.running_mean\", \"model.model.5.bn.running_var\", \"model.model.6.cv1.conv.weight\", \"model.model.6.cv1.bn.weight\", \"model.model.6.cv1.bn.bias\", \"model.model.6.cv1.bn.running_mean\", \"model.model.6.cv1.bn.running_var\", \"model.model.6.cv2.conv.weight\", \"model.model.6.cv2.bn.weight\", \"model.model.6.cv2.bn.bias\", \"model.model.6.cv2.bn.running_mean\", \"model.model.6.cv2.bn.running_var\", \"model.model.6.cv3.conv.weight\", \"model.model.6.cv3.bn.weight\", \"model.model.6.cv3.bn.bias\", \"model.model.6.cv3.bn.running_mean\", \"model.model.6.cv3.bn.running_var\", \"model.model.6.m.0.cv1.conv.weight\", \"model.model.6.m.0.cv1.bn.weight\", \"model.model.6.m.0.cv1.bn.bias\", \"model.model.6.m.0.cv1.bn.running_mean\", \"model.model.6.m.0.cv1.bn.running_var\", \"model.model.6.m.0.cv2.conv.weight\", \"model.model.6.m.0.cv2.bn.weight\", \"model.model.6.m.0.cv2.bn.bias\", \"model.model.6.m.0.cv2.bn.running_mean\", \"model.model.6.m.0.cv2.bn.running_var\", \"model.model.6.m.1.cv1.conv.weight\", \"model.model.6.m.1.cv1.bn.weight\", \"model.model.6.m.1.cv1.bn.bias\", \"model.model.6.m.1.cv1.bn.running_mean\", \"model.model.6.m.1.cv1.bn.running_var\", \"model.model.6.m.1.cv2.conv.weight\", \"model.model.6.m.1.cv2.bn.weight\", \"model.model.6.m.1.cv2.bn.bias\", \"model.model.6.m.1.cv2.bn.running_mean\", \"model.model.6.m.1.cv2.bn.running_var\", \"model.model.6.m.2.cv1.conv.weight\", \"model.model.6.m.2.cv1.bn.weight\", \"model.model.6.m.2.cv1.bn.bias\", \"model.model.6.m.2.cv1.bn.running_mean\", \"model.model.6.m.2.cv1.bn.running_var\", \"model.model.6.m.2.cv2.conv.weight\", \"model.model.6.m.2.cv2.bn.weight\", \"model.model.6.m.2.cv2.bn.bias\", \"model.model.6.m.2.cv2.bn.running_mean\", \"model.model.6.m.2.cv2.bn.running_var\", \"model.model.6.m.3.cv1.conv.weight\", \"model.model.6.m.3.cv1.bn.weight\", \"model.model.6.m.3.cv1.bn.bias\", \"model.model.6.m.3.cv1.bn.running_mean\", \"model.model.6.m.3.cv1.bn.running_var\", \"model.model.6.m.3.cv2.conv.weight\", \"model.model.6.m.3.cv2.bn.weight\", \"model.model.6.m.3.cv2.bn.bias\", \"model.model.6.m.3.cv2.bn.running_mean\", \"model.model.6.m.3.cv2.bn.running_var\", \"model.model.6.m.4.cv1.conv.weight\", \"model.model.6.m.4.cv1.bn.weight\", \"model.model.6.m.4.cv1.bn.bias\", \"model.model.6.m.4.cv1.bn.running_mean\", \"model.model.6.m.4.cv1.bn.running_var\", \"model.model.6.m.4.cv2.conv.weight\", \"model.model.6.m.4.cv2.bn.weight\", \"model.model.6.m.4.cv2.bn.bias\", \"model.model.6.m.4.cv2.bn.running_mean\", \"model.model.6.m.4.cv2.bn.running_var\", \"model.model.6.m.5.cv1.conv.weight\", \"model.model.6.m.5.cv1.bn.weight\", \"model.model.6.m.5.cv1.bn.bias\", \"model.model.6.m.5.cv1.bn.running_mean\", \"model.model.6.m.5.cv1.bn.running_var\", \"model.model.6.m.5.cv2.conv.weight\", \"model.model.6.m.5.cv2.bn.weight\", \"model.model.6.m.5.cv2.bn.bias\", \"model.model.6.m.5.cv2.bn.running_mean\", \"model.model.6.m.5.cv2.bn.running_var\", \"model.model.7.conv.weight\", \"model.model.7.bn.weight\", \"model.model.7.bn.bias\", \"model.model.7.bn.running_mean\", \"model.model.7.bn.running_var\", \"model.model.8.cv1.conv.weight\", \"model.model.8.cv1.bn.weight\", \"model.model.8.cv1.bn.bias\", \"model.model.8.cv1.bn.running_mean\", \"model.model.8.cv1.bn.running_var\", \"model.model.8.cv2.conv.weight\", \"model.model.8.cv2.bn.weight\", \"model.model.8.cv2.bn.bias\", \"model.model.8.cv2.bn.running_mean\", \"model.model.8.cv2.bn.running_var\", \"model.model.8.cv3.conv.weight\", \"model.model.8.cv3.bn.weight\", \"model.model.8.cv3.bn.bias\", \"model.model.8.cv3.bn.running_mean\", \"model.model.8.cv3.bn.running_var\", \"model.model.8.m.0.cv1.conv.weight\", \"model.model.8.m.0.cv1.bn.weight\", \"model.model.8.m.0.cv1.bn.bias\", \"model.model.8.m.0.cv1.bn.running_mean\", \"model.model.8.m.0.cv1.bn.running_var\", \"model.model.8.m.0.cv2.conv.weight\", \"model.model.8.m.0.cv2.bn.weight\", \"model.model.8.m.0.cv2.bn.bias\", \"model.model.8.m.0.cv2.bn.running_mean\", \"model.model.8.m.0.cv2.bn.running_var\", \"model.model.8.m.1.cv1.conv.weight\", \"model.model.8.m.1.cv1.bn.weight\", \"model.model.8.m.1.cv1.bn.bias\", \"model.model.8.m.1.cv1.bn.running_mean\", \"model.model.8.m.1.cv1.bn.running_var\", \"model.model.8.m.1.cv2.conv.weight\", \"model.model.8.m.1.cv2.bn.weight\", \"model.model.8.m.1.cv2.bn.bias\", \"model.model.8.m.1.cv2.bn.running_mean\", \"model.model.8.m.1.cv2.bn.running_var\", \"model.model.9.cv1.conv.weight\", \"model.model.9.cv1.bn.weight\", \"model.model.9.cv1.bn.bias\", \"model.model.9.cv1.bn.running_mean\", \"model.model.9.cv1.bn.running_var\", \"model.model.9.cv2.conv.weight\", \"model.model.9.cv2.bn.weight\", \"model.model.9.cv2.bn.bias\", \"model.model.9.cv2.bn.running_mean\", \"model.model.9.cv2.bn.running_var\", \"model.model.10.conv.weight\", \"model.model.10.bn.weight\", \"model.model.10.bn.bias\", \"model.model.10.bn.running_mean\", \"model.model.10.bn.running_var\", \"model.model.13.cv1.conv.weight\", \"model.model.13.cv1.bn.weight\", \"model.model.13.cv1.bn.bias\", \"model.model.13.cv1.bn.running_mean\", \"model.model.13.cv1.bn.running_var\", \"model.model.13.cv2.conv.weight\", \"model.model.13.cv2.bn.weight\", \"model.model.13.cv2.bn.bias\", \"model.model.13.cv2.bn.running_mean\", \"model.model.13.cv2.bn.running_var\", \"model.model.13.cv3.conv.weight\", \"model.model.13.cv3.bn.weight\", \"model.model.13.cv3.bn.bias\", \"model.model.13.cv3.bn.running_mean\", \"model.model.13.cv3.bn.running_var\", \"model.model.13.m.0.cv1.conv.weight\", \"model.model.13.m.0.cv1.bn.weight\", \"model.model.13.m.0.cv1.bn.bias\", \"model.model.13.m.0.cv1.bn.running_mean\", \"model.model.13.m.0.cv1.bn.running_var\", \"model.model.13.m.0.cv2.conv.weight\", \"model.model.13.m.0.cv2.bn.weight\", \"model.model.13.m.0.cv2.bn.bias\", \"model.model.13.m.0.cv2.bn.running_mean\", \"model.model.13.m.0.cv2.bn.running_var\", \"model.model.13.m.1.cv1.conv.weight\", \"model.model.13.m.1.cv1.bn.weight\", \"model.model.13.m.1.cv1.bn.bias\", \"model.model.13.m.1.cv1.bn.running_mean\", \"model.model.13.m.1.cv1.bn.running_var\", \"model.model.13.m.1.cv2.conv.weight\", \"model.model.13.m.1.cv2.bn.weight\", \"model.model.13.m.1.cv2.bn.bias\", \"model.model.13.m.1.cv2.bn.running_mean\", \"model.model.13.m.1.cv2.bn.running_var\", \"model.model.14.conv.weight\", \"model.model.14.bn.weight\", \"model.model.14.bn.bias\", \"model.model.14.bn.running_mean\", \"model.model.14.bn.running_var\", \"model.model.17.cv1.conv.weight\", \"model.model.17.cv1.bn.weight\", \"model.model.17.cv1.bn.bias\", \"model.model.17.cv1.bn.running_mean\", \"model.model.17.cv1.bn.running_var\", \"model.model.17.cv2.conv.weight\", \"model.model.17.cv2.bn.weight\", \"model.model.17.cv2.bn.bias\", \"model.model.17.cv2.bn.running_mean\", \"model.model.17.cv2.bn.running_var\", \"model.model.17.cv3.conv.weight\", \"model.model.17.cv3.bn.weight\", \"model.model.17.cv3.bn.bias\", \"model.model.17.cv3.bn.running_mean\", \"model.model.17.cv3.bn.running_var\", \"model.model.17.m.0.cv1.conv.weight\", \"model.model.17.m.0.cv1.bn.weight\", \"model.model.17.m.0.cv1.bn.bias\", \"model.model.17.m.0.cv1.bn.running_mean\", \"model.model.17.m.0.cv1.bn.running_var\", \"model.model.17.m.0.cv2.conv.weight\", \"model.model.17.m.0.cv2.bn.weight\", \"model.model.17.m.0.cv2.bn.bias\", \"model.model.17.m.0.cv2.bn.running_mean\", \"model.model.17.m.0.cv2.bn.running_var\", \"model.model.17.m.1.cv1.conv.weight\", \"model.model.17.m.1.cv1.bn.weight\", \"model.model.17.m.1.cv1.bn.bias\", \"model.model.17.m.1.cv1.bn.running_mean\", \"model.model.17.m.1.cv1.bn.running_var\", \"model.model.17.m.1.cv2.conv.weight\", \"model.model.17.m.1.cv2.bn.weight\", \"model.model.17.m.1.cv2.bn.bias\", \"model.model.17.m.1.cv2.bn.running_mean\", \"model.model.17.m.1.cv2.bn.running_var\", \"model.model.18.conv.weight\", \"model.model.18.bn.weight\", \"model.model.18.bn.bias\", \"model.model.18.bn.running_mean\", \"model.model.18.bn.running_var\", \"model.model.20.cv1.conv.weight\", \"model.model.20.cv1.bn.weight\", \"model.model.20.cv1.bn.bias\", \"model.model.20.cv1.bn.running_mean\", \"model.model.20.cv1.bn.running_var\", \"model.model.20.cv2.conv.weight\", \"model.model.20.cv2.bn.weight\", \"model.model.20.cv2.bn.bias\", \"model.model.20.cv2.bn.running_mean\", \"model.model.20.cv2.bn.running_var\", \"model.model.20.cv3.conv.weight\", \"model.model.20.cv3.bn.weight\", \"model.model.20.cv3.bn.bias\", \"model.model.20.cv3.bn.running_mean\", \"model.model.20.cv3.bn.running_var\", \"model.model.20.m.0.cv1.conv.weight\", \"model.model.20.m.0.cv1.bn.weight\", \"model.model.20.m.0.cv1.bn.bias\", \"model.model.20.m.0.cv1.bn.running_mean\", \"model.model.20.m.0.cv1.bn.running_var\", \"model.model.20.m.0.cv2.conv.weight\", \"model.model.20.m.0.cv2.bn.weight\", \"model.model.20.m.0.cv2.bn.bias\", \"model.model.20.m.0.cv2.bn.running_mean\", \"model.model.20.m.0.cv2.bn.running_var\", \"model.model.20.m.1.cv1.conv.weight\", \"model.model.20.m.1.cv1.bn.weight\", \"model.model.20.m.1.cv1.bn.bias\", \"model.model.20.m.1.cv1.bn.running_mean\", \"model.model.20.m.1.cv1.bn.running_var\", \"model.model.20.m.1.cv2.conv.weight\", \"model.model.20.m.1.cv2.bn.weight\", \"model.model.20.m.1.cv2.bn.bias\", \"model.model.20.m.1.cv2.bn.running_mean\", \"model.model.20.m.1.cv2.bn.running_var\", \"model.model.21.conv.weight\", \"model.model.21.bn.weight\", \"model.model.21.bn.bias\", \"model.model.21.bn.running_mean\", \"model.model.21.bn.running_var\", \"model.model.23.cv1.conv.weight\", \"model.model.23.cv1.bn.weight\", \"model.model.23.cv1.bn.bias\", \"model.model.23.cv1.bn.running_mean\", \"model.model.23.cv1.bn.running_var\", \"model.model.23.cv2.conv.weight\", \"model.model.23.cv2.bn.weight\", \"model.model.23.cv2.bn.bias\", \"model.model.23.cv2.bn.running_mean\", \"model.model.23.cv2.bn.running_var\", \"model.model.23.cv3.conv.weight\", \"model.model.23.cv3.bn.weight\", \"model.model.23.cv3.bn.bias\", \"model.model.23.cv3.bn.running_mean\", \"model.model.23.cv3.bn.running_var\", \"model.model.23.m.0.cv1.conv.weight\", \"model.model.23.m.0.cv1.bn.weight\", \"model.model.23.m.0.cv1.bn.bias\", \"model.model.23.m.0.cv1.bn.running_mean\", \"model.model.23.m.0.cv1.bn.running_var\", \"model.model.23.m.0.cv2.conv.weight\", \"model.model.23.m.0.cv2.bn.weight\", \"model.model.23.m.0.cv2.bn.bias\", \"model.model.23.m.0.cv2.bn.running_mean\", \"model.model.23.m.0.cv2.bn.running_var\", \"model.model.23.m.1.cv1.conv.weight\", \"model.model.23.m.1.cv1.bn.weight\", \"model.model.23.m.1.cv1.bn.bias\", \"model.model.23.m.1.cv1.bn.running_mean\", \"model.model.23.m.1.cv1.bn.running_var\", \"model.model.23.m.1.cv2.conv.weight\", \"model.model.23.m.1.cv2.bn.weight\", \"model.model.23.m.1.cv2.bn.bias\", \"model.model.23.m.1.cv2.bn.running_mean\", \"model.model.23.m.1.cv2.bn.running_var\", \"model.model.24.anchors\", \"model.model.24.m.0.weight\", \"model.model.24.m.0.bias\", \"model.model.24.m.1.weight\", \"model.model.24.m.1.bias\", \"model.model.24.m.2.weight\", \"model.model.24.m.2.bias\". \n\tUnexpected key(s) in state_dict: \"model.0.conv.weight\", \"model.0.bn.weight\", \"model.0.bn.bias\", \"model.0.bn.running_mean\", \"model.0.bn.running_var\", \"model.0.bn.num_batches_tracked\", \"model.1.conv.weight\", \"model.1.bn.weight\", \"model.1.bn.bias\", \"model.1.bn.running_mean\", \"model.1.bn.running_var\", \"model.1.bn.num_batches_tracked\", \"model.2.cv1.conv.weight\", \"model.2.cv1.bn.weight\", \"model.2.cv1.bn.bias\", \"model.2.cv1.bn.running_mean\", \"model.2.cv1.bn.running_var\", \"model.2.cv1.bn.num_batches_tracked\", \"model.2.cv2.conv.weight\", \"model.2.cv2.bn.weight\", \"model.2.cv2.bn.bias\", \"model.2.cv2.bn.running_mean\", \"model.2.cv2.bn.running_var\", \"model.2.cv2.bn.num_batches_tracked\", \"model.2.cv3.conv.weight\", \"model.2.cv3.bn.weight\", \"model.2.cv3.bn.bias\", \"model.2.cv3.bn.running_mean\", \"model.2.cv3.bn.running_var\", \"model.2.cv3.bn.num_batches_tracked\", \"model.2.m.0.cv1.conv.weight\", \"model.2.m.0.cv1.bn.weight\", \"model.2.m.0.cv1.bn.bias\", \"model.2.m.0.cv1.bn.running_mean\", \"model.2.m.0.cv1.bn.running_var\", \"model.2.m.0.cv1.bn.num_batches_tracked\", \"model.2.m.0.cv2.conv.weight\", \"model.2.m.0.cv2.bn.weight\", \"model.2.m.0.cv2.bn.bias\", \"model.2.m.0.cv2.bn.running_mean\", \"model.2.m.0.cv2.bn.running_var\", \"model.2.m.0.cv2.bn.num_batches_tracked\", \"model.2.m.1.cv1.conv.weight\", \"model.2.m.1.cv1.bn.weight\", \"model.2.m.1.cv1.bn.bias\", \"model.2.m.1.cv1.bn.running_mean\", \"model.2.m.1.cv1.bn.running_var\", \"model.2.m.1.cv1.bn.num_batches_tracked\", \"model.2.m.1.cv2.conv.weight\", \"model.2.m.1.cv2.bn.weight\", \"model.2.m.1.cv2.bn.bias\", \"model.2.m.1.cv2.bn.running_mean\", \"model.2.m.1.cv2.bn.running_var\", \"model.2.m.1.cv2.bn.num_batches_tracked\", \"model.3.conv.weight\", \"model.3.bn.weight\", \"model.3.bn.bias\", \"model.3.bn.running_mean\", \"model.3.bn.running_var\", \"model.3.bn.num_batches_tracked\", \"model.4.cv1.conv.weight\", \"model.4.cv1.bn.weight\", \"model.4.cv1.bn.bias\", \"model.4.cv1.bn.running_mean\", \"model.4.cv1.bn.running_var\", \"model.4.cv1.bn.num_batches_tracked\", \"model.4.cv2.conv.weight\", \"model.4.cv2.bn.weight\", \"model.4.cv2.bn.bias\", \"model.4.cv2.bn.running_mean\", \"model.4.cv2.bn.running_var\", \"model.4.cv2.bn.num_batches_tracked\", \"model.4.cv3.conv.weight\", \"model.4.cv3.bn.weight\", \"model.4.cv3.bn.bias\", \"model.4.cv3.bn.running_mean\", \"model.4.cv3.bn.running_var\", \"model.4.cv3.bn.num_batches_tracked\", \"model.4.m.0.cv1.conv.weight\", \"model.4.m.0.cv1.bn.weight\", \"model.4.m.0.cv1.bn.bias\", \"model.4.m.0.cv1.bn.running_mean\", \"model.4.m.0.cv1.bn.running_var\", \"model.4.m.0.cv1.bn.num_batches_tracked\", \"model.4.m.0.cv2.conv.weight\", \"model.4.m.0.cv2.bn.weight\", \"model.4.m.0.cv2.bn.bias\", \"model.4.m.0.cv2.bn.running_mean\", \"model.4.m.0.cv2.bn.running_var\", \"model.4.m.0.cv2.bn.num_batches_tracked\", \"model.4.m.1.cv1.conv.weight\", \"model.4.m.1.cv1.bn.weight\", \"model.4.m.1.cv1.bn.bias\", \"model.4.m.1.cv1.bn.running_mean\", \"model.4.m.1.cv1.bn.running_var\", \"model.4.m.1.cv1.bn.num_batches_tracked\", \"model.4.m.1.cv2.conv.weight\", \"model.4.m.1.cv2.bn.weight\", \"model.4.m.1.cv2.bn.bias\", \"model.4.m.1.cv2.bn.running_mean\", \"model.4.m.1.cv2.bn.running_var\", \"model.4.m.1.cv2.bn.num_batches_tracked\", \"model.4.m.2.cv1.conv.weight\", \"model.4.m.2.cv1.bn.weight\", \"model.4.m.2.cv1.bn.bias\", \"model.4.m.2.cv1.bn.running_mean\", \"model.4.m.2.cv1.bn.running_var\", \"model.4.m.2.cv1.bn.num_batches_tracked\", \"model.4.m.2.cv2.conv.weight\", \"model.4.m.2.cv2.bn.weight\", \"model.4.m.2.cv2.bn.bias\", \"model.4.m.2.cv2.bn.running_mean\", \"model.4.m.2.cv2.bn.running_var\", \"model.4.m.2.cv2.bn.num_batches_tracked\", \"model.4.m.3.cv1.conv.weight\", \"model.4.m.3.cv1.bn.weight\", \"model.4.m.3.cv1.bn.bias\", \"model.4.m.3.cv1.bn.running_mean\", \"model.4.m.3.cv1.bn.running_var\", \"model.4.m.3.cv1.bn.num_batches_tracked\", \"model.4.m.3.cv2.conv.weight\", \"model.4.m.3.cv2.bn.weight\", \"model.4.m.3.cv2.bn.bias\", \"model.4.m.3.cv2.bn.running_mean\", \"model.4.m.3.cv2.bn.running_var\", \"model.4.m.3.cv2.bn.num_batches_tracked\", \"model.5.conv.weight\", \"model.5.bn.weight\", \"model.5.bn.bias\", \"model.5.bn.running_mean\", \"model.5.bn.running_var\", \"model.5.bn.num_batches_tracked\", \"model.6.cv1.conv.weight\", \"model.6.cv1.bn.weight\", \"model.6.cv1.bn.bias\", \"model.6.cv1.bn.running_mean\", \"model.6.cv1.bn.running_var\", \"model.6.cv1.bn.num_batches_tracked\", \"model.6.cv2.conv.weight\", \"model.6.cv2.bn.weight\", \"model.6.cv2.bn.bias\", \"model.6.cv2.bn.running_mean\", \"model.6.cv2.bn.running_var\", \"model.6.cv2.bn.num_batches_tracked\", \"model.6.cv3.conv.weight\", \"model.6.cv3.bn.weight\", \"model.6.cv3.bn.bias\", \"model.6.cv3.bn.running_mean\", \"model.6.cv3.bn.running_var\", \"model.6.cv3.bn.num_batches_tracked\", \"model.6.m.0.cv1.conv.weight\", \"model.6.m.0.cv1.bn.weight\", \"model.6.m.0.cv1.bn.bias\", \"model.6.m.0.cv1.bn.running_mean\", \"model.6.m.0.cv1.bn.running_var\", \"model.6.m.0.cv1.bn.num_batches_tracked\", \"model.6.m.0.cv2.conv.weight\", \"model.6.m.0.cv2.bn.weight\", \"model.6.m.0.cv2.bn.bias\", \"model.6.m.0.cv2.bn.running_mean\", \"model.6.m.0.cv2.bn.running_var\", \"model.6.m.0.cv2.bn.num_batches_tracked\", \"model.6.m.1.cv1.conv.weight\", \"model.6.m.1.cv1.bn.weight\", \"model.6.m.1.cv1.bn.bias\", \"model.6.m.1.cv1.bn.running_mean\", \"model.6.m.1.cv1.bn.running_var\", \"model.6.m.1.cv1.bn.num_batches_tracked\", \"model.6.m.1.cv2.conv.weight\", \"model.6.m.1.cv2.bn.weight\", \"model.6.m.1.cv2.bn.bias\", \"model.6.m.1.cv2.bn.running_mean\", \"model.6.m.1.cv2.bn.running_var\", \"model.6.m.1.cv2.bn.num_batches_tracked\", \"model.6.m.2.cv1.conv.weight\", \"model.6.m.2.cv1.bn.weight\", \"model.6.m.2.cv1.bn.bias\", \"model.6.m.2.cv1.bn.running_mean\", \"model.6.m.2.cv1.bn.running_var\", \"model.6.m.2.cv1.bn.num_batches_tracked\", \"model.6.m.2.cv2.conv.weight\", \"model.6.m.2.cv2.bn.weight\", \"model.6.m.2.cv2.bn.bias\", \"model.6.m.2.cv2.bn.running_mean\", \"model.6.m.2.cv2.bn.running_var\", \"model.6.m.2.cv2.bn.num_batches_tracked\", \"model.6.m.3.cv1.conv.weight\", \"model.6.m.3.cv1.bn.weight\", \"model.6.m.3.cv1.bn.bias\", \"model.6.m.3.cv1.bn.running_mean\", \"model.6.m.3.cv1.bn.running_var\", \"model.6.m.3.cv1.bn.num_batches_tracked\", \"model.6.m.3.cv2.conv.weight\", \"model.6.m.3.cv2.bn.weight\", \"model.6.m.3.cv2.bn.bias\", \"model.6.m.3.cv2.bn.running_mean\", \"model.6.m.3.cv2.bn.running_var\", \"model.6.m.3.cv2.bn.num_batches_tracked\", \"model.6.m.4.cv1.conv.weight\", \"model.6.m.4.cv1.bn.weight\", \"model.6.m.4.cv1.bn.bias\", \"model.6.m.4.cv1.bn.running_mean\", \"model.6.m.4.cv1.bn.running_var\", \"model.6.m.4.cv1.bn.num_batches_tracked\", \"model.6.m.4.cv2.conv.weight\", \"model.6.m.4.cv2.bn.weight\", \"model.6.m.4.cv2.bn.bias\", \"model.6.m.4.cv2.bn.running_mean\", \"model.6.m.4.cv2.bn.running_var\", \"model.6.m.4.cv2.bn.num_batches_tracked\", \"model.6.m.5.cv1.conv.weight\", \"model.6.m.5.cv1.bn.weight\", \"model.6.m.5.cv1.bn.bias\", \"model.6.m.5.cv1.bn.running_mean\", \"model.6.m.5.cv1.bn.running_var\", \"model.6.m.5.cv1.bn.num_batches_tracked\", \"model.6.m.5.cv2.conv.weight\", \"model.6.m.5.cv2.bn.weight\", \"model.6.m.5.cv2.bn.bias\", \"model.6.m.5.cv2.bn.running_mean\", \"model.6.m.5.cv2.bn.running_var\", \"model.6.m.5.cv2.bn.num_batches_tracked\", \"model.7.conv.weight\", \"model.7.bn.weight\", \"model.7.bn.bias\", \"model.7.bn.running_mean\", \"model.7.bn.running_var\", \"model.7.bn.num_batches_tracked\", \"model.8.cv1.conv.weight\", \"model.8.cv1.bn.weight\", \"model.8.cv1.bn.bias\", \"model.8.cv1.bn.running_mean\", \"model.8.cv1.bn.running_var\", \"model.8.cv1.bn.num_batches_tracked\", \"model.8.cv2.conv.weight\", \"model.8.cv2.bn.weight\", \"model.8.cv2.bn.bias\", \"model.8.cv2.bn.running_mean\", \"model.8.cv2.bn.running_var\", \"model.8.cv2.bn.num_batches_tracked\", \"model.8.cv3.conv.weight\", \"model.8.cv3.bn.weight\", \"model.8.cv3.bn.bias\", \"model.8.cv3.bn.running_mean\", \"model.8.cv3.bn.running_var\", \"model.8.cv3.bn.num_batches_tracked\", \"model.8.m.0.cv1.conv.weight\", \"model.8.m.0.cv1.bn.weight\", \"model.8.m.0.cv1.bn.bias\", \"model.8.m.0.cv1.bn.running_mean\", \"model.8.m.0.cv1.bn.running_var\", \"model.8.m.0.cv1.bn.num_batches_tracked\", \"model.8.m.0.cv2.conv.weight\", \"model.8.m.0.cv2.bn.weight\", \"model.8.m.0.cv2.bn.bias\", \"model.8.m.0.cv2.bn.running_mean\", \"model.8.m.0.cv2.bn.running_var\", \"model.8.m.0.cv2.bn.num_batches_tracked\", \"model.8.m.1.cv1.conv.weight\", \"model.8.m.1.cv1.bn.weight\", \"model.8.m.1.cv1.bn.bias\", \"model.8.m.1.cv1.bn.running_mean\", \"model.8.m.1.cv1.bn.running_var\", \"model.8.m.1.cv1.bn.num_batches_tracked\", \"model.8.m.1.cv2.conv.weight\", \"model.8.m.1.cv2.bn.weight\", \"model.8.m.1.cv2.bn.bias\", \"model.8.m.1.cv2.bn.running_mean\", \"model.8.m.1.cv2.bn.running_var\", \"model.8.m.1.cv2.bn.num_batches_tracked\", \"model.9.cv1.conv.weight\", \"model.9.cv1.bn.weight\", \"model.9.cv1.bn.bias\", \"model.9.cv1.bn.running_mean\", \"model.9.cv1.bn.running_var\", \"model.9.cv1.bn.num_batches_tracked\", \"model.9.cv2.conv.weight\", \"model.9.cv2.bn.weight\", \"model.9.cv2.bn.bias\", \"model.9.cv2.bn.running_mean\", \"model.9.cv2.bn.running_var\", \"model.9.cv2.bn.num_batches_tracked\", \"model.10.conv.weight\", \"model.10.bn.weight\", \"model.10.bn.bias\", \"model.10.bn.running_mean\", \"model.10.bn.running_var\", \"model.10.bn.num_batches_tracked\", \"model.13.cv1.conv.weight\", \"model.13.cv1.bn.weight\", \"model.13.cv1.bn.bias\", \"model.13.cv1.bn.running_mean\", \"model.13.cv1.bn.running_var\", \"model.13.cv1.bn.num_batches_tracked\", \"model.13.cv2.conv.weight\", \"model.13.cv2.bn.weight\", \"model.13.cv2.bn.bias\", \"model.13.cv2.bn.running_mean\", \"model.13.cv2.bn.running_var\", \"model.13.cv2.bn.num_batches_tracked\", \"model.13.cv3.conv.weight\", \"model.13.cv3.bn.weight\", \"model.13.cv3.bn.bias\", \"model.13.cv3.bn.running_mean\", \"model.13.cv3.bn.running_var\", \"model.13.cv3.bn.num_batches_tracked\", \"model.13.m.0.cv1.conv.weight\", \"model.13.m.0.cv1.bn.weight\", \"model.13.m.0.cv1.bn.bias\", \"model.13.m.0.cv1.bn.running_mean\", \"model.13.m.0.cv1.bn.running_var\", \"model.13.m.0.cv1.bn.num_batches_tracked\", \"model.13.m.0.cv2.conv.weight\", \"model.13.m.0.cv2.bn.weight\", \"model.13.m.0.cv2.bn.bias\", \"model.13.m.0.cv2.bn.running_mean\", \"model.13.m.0.cv2.bn.running_var\", \"model.13.m.0.cv2.bn.num_batches_tracked\", \"model.13.m.1.cv1.conv.weight\", \"model.13.m.1.cv1.bn.weight\", \"model.13.m.1.cv1.bn.bias\", \"model.13.m.1.cv1.bn.running_mean\", \"model.13.m.1.cv1.bn.running_var\", \"model.13.m.1.cv1.bn.num_batches_tracked\", \"model.13.m.1.cv2.conv.weight\", \"model.13.m.1.cv2.bn.weight\", \"model.13.m.1.cv2.bn.bias\", \"model.13.m.1.cv2.bn.running_mean\", \"model.13.m.1.cv2.bn.running_var\", \"model.13.m.1.cv2.bn.num_batches_tracked\", \"model.14.conv.weight\", \"model.14.bn.weight\", \"model.14.bn.bias\", \"model.14.bn.running_mean\", \"model.14.bn.running_var\", \"model.14.bn.num_batches_tracked\", \"model.17.cv1.conv.weight\", \"model.17.cv1.bn.weight\", \"model.17.cv1.bn.bias\", \"model.17.cv1.bn.running_mean\", \"model.17.cv1.bn.running_var\", \"model.17.cv1.bn.num_batches_tracked\", \"model.17.cv2.conv.weight\", \"model.17.cv2.bn.weight\", \"model.17.cv2.bn.bias\", \"model.17.cv2.bn.running_mean\", \"model.17.cv2.bn.running_var\", \"model.17.cv2.bn.num_batches_tracked\", \"model.17.cv3.conv.weight\", \"model.17.cv3.bn.weight\", \"model.17.cv3.bn.bias\", \"model.17.cv3.bn.running_mean\", \"model.17.cv3.bn.running_var\", \"model.17.cv3.bn.num_batches_tracked\", \"model.17.m.0.cv1.conv.weight\", \"model.17.m.0.cv1.bn.weight\", \"model.17.m.0.cv1.bn.bias\", \"model.17.m.0.cv1.bn.running_mean\", \"model.17.m.0.cv1.bn.running_var\", \"model.17.m.0.cv1.bn.num_batches_tracked\", \"model.17.m.0.cv2.conv.weight\", \"model.17.m.0.cv2.bn.weight\", \"model.17.m.0.cv2.bn.bias\", \"model.17.m.0.cv2.bn.running_mean\", \"model.17.m.0.cv2.bn.running_var\", \"model.17.m.0.cv2.bn.num_batches_tracked\", \"model.17.m.1.cv1.conv.weight\", \"model.17.m.1.cv1.bn.weight\", \"model.17.m.1.cv1.bn.bias\", \"model.17.m.1.cv1.bn.running_mean\", \"model.17.m.1.cv1.bn.running_var\", \"model.17.m.1.cv1.bn.num_batches_tracked\", \"model.17.m.1.cv2.conv.weight\", \"model.17.m.1.cv2.bn.weight\", \"model.17.m.1.cv2.bn.bias\", \"model.17.m.1.cv2.bn.running_mean\", \"model.17.m.1.cv2.bn.running_var\", \"model.17.m.1.cv2.bn.num_batches_tracked\", \"model.18.conv.weight\", \"model.18.bn.weight\", \"model.18.bn.bias\", \"model.18.bn.running_mean\", \"model.18.bn.running_var\", \"model.18.bn.num_batches_tracked\", \"model.20.cv1.conv.weight\", \"model.20.cv1.bn.weight\", \"model.20.cv1.bn.bias\", \"model.20.cv1.bn.running_mean\", \"model.20.cv1.bn.running_var\", \"model.20.cv1.bn.num_batches_tracked\", \"model.20.cv2.conv.weight\", \"model.20.cv2.bn.weight\", \"model.20.cv2.bn.bias\", \"model.20.cv2.bn.running_mean\", \"model.20.cv2.bn.running_var\", \"model.20.cv2.bn.num_batches_tracked\", \"model.20.cv3.conv.weight\", \"model.20.cv3.bn.weight\", \"model.20.cv3.bn.bias\", \"model.20.cv3.bn.running_mean\", \"model.20.cv3.bn.running_var\", \"model.20.cv3.bn.num_batches_tracked\", \"model.20.m.0.cv1.conv.weight\", \"model.20.m.0.cv1.bn.weight\", \"model.20.m.0.cv1.bn.bias\", \"model.20.m.0.cv1.bn.running_mean\", \"model.20.m.0.cv1.bn.running_var\", \"model.20.m.0.cv1.bn.num_batches_tracked\", \"model.20.m.0.cv2.conv.weight\", \"model.20.m.0.cv2.bn.weight\", \"model.20.m.0.cv2.bn.bias\", \"model.20.m.0.cv2.bn.running_mean\", \"model.20.m.0.cv2.bn.running_var\", \"model.20.m.0.cv2.bn.num_batches_tracked\", \"model.20.m.1.cv1.conv.weight\", \"model.20.m.1.cv1.bn.weight\", \"model.20.m.1.cv1.bn.bias\", \"model.20.m.1.cv1.bn.running_mean\", \"model.20.m.1.cv1.bn.running_var\", \"model.20.m.1.cv1.bn.num_batches_tracked\", \"model.20.m.1.cv2.conv.weight\", \"model.20.m.1.cv2.bn.weight\", \"model.20.m.1.cv2.bn.bias\", \"model.20.m.1.cv2.bn.running_mean\", \"model.20.m.1.cv2.bn.running_var\", \"model.20.m.1.cv2.bn.num_batches_tracked\", \"model.21.conv.weight\", \"model.21.bn.weight\", \"model.21.bn.bias\", \"model.21.bn.running_mean\", \"model.21.bn.running_var\", \"model.21.bn.num_batches_tracked\", \"model.23.cv1.conv.weight\", \"model.23.cv1.bn.weight\", \"model.23.cv1.bn.bias\", \"model.23.cv1.bn.running_mean\", \"model.23.cv1.bn.running_var\", \"model.23.cv1.bn.num_batches_tracked\", \"model.23.cv2.conv.weight\", \"model.23.cv2.bn.weight\", \"model.23.cv2.bn.bias\", \"model.23.cv2.bn.running_mean\", \"model.23.cv2.bn.running_var\", \"model.23.cv2.bn.num_batches_tracked\", \"model.23.cv3.conv.weight\", \"model.23.cv3.bn.weight\", \"model.23.cv3.bn.bias\", \"model.23.cv3.bn.running_mean\", \"model.23.cv3.bn.running_var\", \"model.23.cv3.bn.num_batches_tracked\", \"model.23.m.0.cv1.conv.weight\", \"model.23.m.0.cv1.bn.weight\", \"model.23.m.0.cv1.bn.bias\", \"model.23.m.0.cv1.bn.running_mean\", \"model.23.m.0.cv1.bn.running_var\", \"model.23.m.0.cv1.bn.num_batches_tracked\", \"model.23.m.0.cv2.conv.weight\", \"model.23.m.0.cv2.bn.weight\", \"model.23.m.0.cv2.bn.bias\", \"model.23.m.0.cv2.bn.running_mean\", \"model.23.m.0.cv2.bn.running_var\", \"model.23.m.0.cv2.bn.num_batches_tracked\", \"model.23.m.1.cv1.conv.weight\", \"model.23.m.1.cv1.bn.weight\", \"model.23.m.1.cv1.bn.bias\", \"model.23.m.1.cv1.bn.running_mean\", \"model.23.m.1.cv1.bn.running_var\", \"model.23.m.1.cv1.bn.num_batches_tracked\", \"model.23.m.1.cv2.conv.weight\", \"model.23.m.1.cv2.bn.weight\", \"model.23.m.1.cv2.bn.bias\", \"model.23.m.1.cv2.bn.running_mean\", \"model.23.m.1.cv2.bn.running_var\", \"model.23.m.1.cv2.bn.num_batches_tracked\", \"model.24.anchors\", \"model.24.m.0.weight\", \"model.24.m.0.bias\", \"model.24.m.1.weight\", \"model.24.m.1.bias\", \"model.24.m.2.weight\", \"model.24.m.2.bias\". ",
     "output_type": "error",
     "traceback": [
      "\u001B[1;31m---------------------------------------------------------------------------\u001B[0m",
      "\u001B[1;31mRuntimeError\u001B[0m                              Traceback (most recent call last)",
      "Input \u001B[1;32mIn [66]\u001B[0m, in \u001B[0;36m<cell line: 1>\u001B[1;34m()\u001B[0m\n\u001B[1;32m----> 1\u001B[0m \u001B[43mmodel\u001B[49m\u001B[38;5;241;43m.\u001B[39;49m\u001B[43mload_state_dict\u001B[49m\u001B[43m(\u001B[49m\u001B[43mtorch\u001B[49m\u001B[38;5;241;43m.\u001B[39;49m\u001B[43mload\u001B[49m\u001B[43m(\u001B[49m\u001B[43mweight\u001B[49m\u001B[43m)\u001B[49m\u001B[43m[\u001B[49m\u001B[38;5;124;43m'\u001B[39;49m\u001B[38;5;124;43mmodel\u001B[39;49m\u001B[38;5;124;43m'\u001B[39;49m\u001B[43m]\u001B[49m\u001B[38;5;241;43m.\u001B[39;49m\u001B[43mstate_dict\u001B[49m\u001B[43m(\u001B[49m\u001B[43m)\u001B[49m\u001B[43m)\u001B[49m\n",
      "File \u001B[1;32m~\\anaconda3\\lib\\site-packages\\torch\\nn\\modules\\module.py:1497\u001B[0m, in \u001B[0;36mModule.load_state_dict\u001B[1;34m(self, state_dict, strict)\u001B[0m\n\u001B[0;32m   1492\u001B[0m         error_msgs\u001B[38;5;241m.\u001B[39minsert(\n\u001B[0;32m   1493\u001B[0m             \u001B[38;5;241m0\u001B[39m, \u001B[38;5;124m'\u001B[39m\u001B[38;5;124mMissing key(s) in state_dict: \u001B[39m\u001B[38;5;132;01m{}\u001B[39;00m\u001B[38;5;124m. \u001B[39m\u001B[38;5;124m'\u001B[39m\u001B[38;5;241m.\u001B[39mformat(\n\u001B[0;32m   1494\u001B[0m                 \u001B[38;5;124m'\u001B[39m\u001B[38;5;124m, \u001B[39m\u001B[38;5;124m'\u001B[39m\u001B[38;5;241m.\u001B[39mjoin(\u001B[38;5;124m'\u001B[39m\u001B[38;5;124m\"\u001B[39m\u001B[38;5;132;01m{}\u001B[39;00m\u001B[38;5;124m\"\u001B[39m\u001B[38;5;124m'\u001B[39m\u001B[38;5;241m.\u001B[39mformat(k) \u001B[38;5;28;01mfor\u001B[39;00m k \u001B[38;5;129;01min\u001B[39;00m missing_keys)))\n\u001B[0;32m   1496\u001B[0m \u001B[38;5;28;01mif\u001B[39;00m \u001B[38;5;28mlen\u001B[39m(error_msgs) \u001B[38;5;241m>\u001B[39m \u001B[38;5;241m0\u001B[39m:\n\u001B[1;32m-> 1497\u001B[0m     \u001B[38;5;28;01mraise\u001B[39;00m \u001B[38;5;167;01mRuntimeError\u001B[39;00m(\u001B[38;5;124m'\u001B[39m\u001B[38;5;124mError(s) in loading state_dict for \u001B[39m\u001B[38;5;132;01m{}\u001B[39;00m\u001B[38;5;124m:\u001B[39m\u001B[38;5;130;01m\\n\u001B[39;00m\u001B[38;5;130;01m\\t\u001B[39;00m\u001B[38;5;132;01m{}\u001B[39;00m\u001B[38;5;124m'\u001B[39m\u001B[38;5;241m.\u001B[39mformat(\n\u001B[0;32m   1498\u001B[0m                        \u001B[38;5;28mself\u001B[39m\u001B[38;5;241m.\u001B[39m\u001B[38;5;18m__class__\u001B[39m\u001B[38;5;241m.\u001B[39m\u001B[38;5;18m__name__\u001B[39m, \u001B[38;5;124m\"\u001B[39m\u001B[38;5;130;01m\\n\u001B[39;00m\u001B[38;5;130;01m\\t\u001B[39;00m\u001B[38;5;124m\"\u001B[39m\u001B[38;5;241m.\u001B[39mjoin(error_msgs)))\n\u001B[0;32m   1499\u001B[0m \u001B[38;5;28;01mreturn\u001B[39;00m _IncompatibleKeys(missing_keys, unexpected_keys)\n",
      "\u001B[1;31mRuntimeError\u001B[0m: Error(s) in loading state_dict for AutoShape:\n\tMissing key(s) in state_dict: \"model.model.0.conv.weight\", \"model.model.0.bn.weight\", \"model.model.0.bn.bias\", \"model.model.0.bn.running_mean\", \"model.model.0.bn.running_var\", \"model.model.1.conv.weight\", \"model.model.1.bn.weight\", \"model.model.1.bn.bias\", \"model.model.1.bn.running_mean\", \"model.model.1.bn.running_var\", \"model.model.2.cv1.conv.weight\", \"model.model.2.cv1.bn.weight\", \"model.model.2.cv1.bn.bias\", \"model.model.2.cv1.bn.running_mean\", \"model.model.2.cv1.bn.running_var\", \"model.model.2.cv2.conv.weight\", \"model.model.2.cv2.bn.weight\", \"model.model.2.cv2.bn.bias\", \"model.model.2.cv2.bn.running_mean\", \"model.model.2.cv2.bn.running_var\", \"model.model.2.cv3.conv.weight\", \"model.model.2.cv3.bn.weight\", \"model.model.2.cv3.bn.bias\", \"model.model.2.cv3.bn.running_mean\", \"model.model.2.cv3.bn.running_var\", \"model.model.2.m.0.cv1.conv.weight\", \"model.model.2.m.0.cv1.bn.weight\", \"model.model.2.m.0.cv1.bn.bias\", \"model.model.2.m.0.cv1.bn.running_mean\", \"model.model.2.m.0.cv1.bn.running_var\", \"model.model.2.m.0.cv2.conv.weight\", \"model.model.2.m.0.cv2.bn.weight\", \"model.model.2.m.0.cv2.bn.bias\", \"model.model.2.m.0.cv2.bn.running_mean\", \"model.model.2.m.0.cv2.bn.running_var\", \"model.model.2.m.1.cv1.conv.weight\", \"model.model.2.m.1.cv1.bn.weight\", \"model.model.2.m.1.cv1.bn.bias\", \"model.model.2.m.1.cv1.bn.running_mean\", \"model.model.2.m.1.cv1.bn.running_var\", \"model.model.2.m.1.cv2.conv.weight\", \"model.model.2.m.1.cv2.bn.weight\", \"model.model.2.m.1.cv2.bn.bias\", \"model.model.2.m.1.cv2.bn.running_mean\", \"model.model.2.m.1.cv2.bn.running_var\", \"model.model.3.conv.weight\", \"model.model.3.bn.weight\", \"model.model.3.bn.bias\", \"model.model.3.bn.running_mean\", \"model.model.3.bn.running_var\", \"model.model.4.cv1.conv.weight\", \"model.model.4.cv1.bn.weight\", \"model.model.4.cv1.bn.bias\", \"model.model.4.cv1.bn.running_mean\", \"model.model.4.cv1.bn.running_var\", \"model.model.4.cv2.conv.weight\", \"model.model.4.cv2.bn.weight\", \"model.model.4.cv2.bn.bias\", \"model.model.4.cv2.bn.running_mean\", \"model.model.4.cv2.bn.running_var\", \"model.model.4.cv3.conv.weight\", \"model.model.4.cv3.bn.weight\", \"model.model.4.cv3.bn.bias\", \"model.model.4.cv3.bn.running_mean\", \"model.model.4.cv3.bn.running_var\", \"model.model.4.m.0.cv1.conv.weight\", \"model.model.4.m.0.cv1.bn.weight\", \"model.model.4.m.0.cv1.bn.bias\", \"model.model.4.m.0.cv1.bn.running_mean\", \"model.model.4.m.0.cv1.bn.running_var\", \"model.model.4.m.0.cv2.conv.weight\", \"model.model.4.m.0.cv2.bn.weight\", \"model.model.4.m.0.cv2.bn.bias\", \"model.model.4.m.0.cv2.bn.running_mean\", \"model.model.4.m.0.cv2.bn.running_var\", \"model.model.4.m.1.cv1.conv.weight\", \"model.model.4.m.1.cv1.bn.weight\", \"model.model.4.m.1.cv1.bn.bias\", \"model.model.4.m.1.cv1.bn.running_mean\", \"model.model.4.m.1.cv1.bn.running_var\", \"model.model.4.m.1.cv2.conv.weight\", \"model.model.4.m.1.cv2.bn.weight\", \"model.model.4.m.1.cv2.bn.bias\", \"model.model.4.m.1.cv2.bn.running_mean\", \"model.model.4.m.1.cv2.bn.running_var\", \"model.model.4.m.2.cv1.conv.weight\", \"model.model.4.m.2.cv1.bn.weight\", \"model.model.4.m.2.cv1.bn.bias\", \"model.model.4.m.2.cv1.bn.running_mean\", \"model.model.4.m.2.cv1.bn.running_var\", \"model.model.4.m.2.cv2.conv.weight\", \"model.model.4.m.2.cv2.bn.weight\", \"model.model.4.m.2.cv2.bn.bias\", \"model.model.4.m.2.cv2.bn.running_mean\", \"model.model.4.m.2.cv2.bn.running_var\", \"model.model.4.m.3.cv1.conv.weight\", \"model.model.4.m.3.cv1.bn.weight\", \"model.model.4.m.3.cv1.bn.bias\", \"model.model.4.m.3.cv1.bn.running_mean\", \"model.model.4.m.3.cv1.bn.running_var\", \"model.model.4.m.3.cv2.conv.weight\", \"model.model.4.m.3.cv2.bn.weight\", \"model.model.4.m.3.cv2.bn.bias\", \"model.model.4.m.3.cv2.bn.running_mean\", \"model.model.4.m.3.cv2.bn.running_var\", \"model.model.5.conv.weight\", \"model.model.5.bn.weight\", \"model.model.5.bn.bias\", \"model.model.5.bn.running_mean\", \"model.model.5.bn.running_var\", \"model.model.6.cv1.conv.weight\", \"model.model.6.cv1.bn.weight\", \"model.model.6.cv1.bn.bias\", \"model.model.6.cv1.bn.running_mean\", \"model.model.6.cv1.bn.running_var\", \"model.model.6.cv2.conv.weight\", \"model.model.6.cv2.bn.weight\", \"model.model.6.cv2.bn.bias\", \"model.model.6.cv2.bn.running_mean\", \"model.model.6.cv2.bn.running_var\", \"model.model.6.cv3.conv.weight\", \"model.model.6.cv3.bn.weight\", \"model.model.6.cv3.bn.bias\", \"model.model.6.cv3.bn.running_mean\", \"model.model.6.cv3.bn.running_var\", \"model.model.6.m.0.cv1.conv.weight\", \"model.model.6.m.0.cv1.bn.weight\", \"model.model.6.m.0.cv1.bn.bias\", \"model.model.6.m.0.cv1.bn.running_mean\", \"model.model.6.m.0.cv1.bn.running_var\", \"model.model.6.m.0.cv2.conv.weight\", \"model.model.6.m.0.cv2.bn.weight\", \"model.model.6.m.0.cv2.bn.bias\", \"model.model.6.m.0.cv2.bn.running_mean\", \"model.model.6.m.0.cv2.bn.running_var\", \"model.model.6.m.1.cv1.conv.weight\", \"model.model.6.m.1.cv1.bn.weight\", \"model.model.6.m.1.cv1.bn.bias\", \"model.model.6.m.1.cv1.bn.running_mean\", \"model.model.6.m.1.cv1.bn.running_var\", \"model.model.6.m.1.cv2.conv.weight\", \"model.model.6.m.1.cv2.bn.weight\", \"model.model.6.m.1.cv2.bn.bias\", \"model.model.6.m.1.cv2.bn.running_mean\", \"model.model.6.m.1.cv2.bn.running_var\", \"model.model.6.m.2.cv1.conv.weight\", \"model.model.6.m.2.cv1.bn.weight\", \"model.model.6.m.2.cv1.bn.bias\", \"model.model.6.m.2.cv1.bn.running_mean\", \"model.model.6.m.2.cv1.bn.running_var\", \"model.model.6.m.2.cv2.conv.weight\", \"model.model.6.m.2.cv2.bn.weight\", \"model.model.6.m.2.cv2.bn.bias\", \"model.model.6.m.2.cv2.bn.running_mean\", \"model.model.6.m.2.cv2.bn.running_var\", \"model.model.6.m.3.cv1.conv.weight\", \"model.model.6.m.3.cv1.bn.weight\", \"model.model.6.m.3.cv1.bn.bias\", \"model.model.6.m.3.cv1.bn.running_mean\", \"model.model.6.m.3.cv1.bn.running_var\", \"model.model.6.m.3.cv2.conv.weight\", \"model.model.6.m.3.cv2.bn.weight\", \"model.model.6.m.3.cv2.bn.bias\", \"model.model.6.m.3.cv2.bn.running_mean\", \"model.model.6.m.3.cv2.bn.running_var\", \"model.model.6.m.4.cv1.conv.weight\", \"model.model.6.m.4.cv1.bn.weight\", \"model.model.6.m.4.cv1.bn.bias\", \"model.model.6.m.4.cv1.bn.running_mean\", \"model.model.6.m.4.cv1.bn.running_var\", \"model.model.6.m.4.cv2.conv.weight\", \"model.model.6.m.4.cv2.bn.weight\", \"model.model.6.m.4.cv2.bn.bias\", \"model.model.6.m.4.cv2.bn.running_mean\", \"model.model.6.m.4.cv2.bn.running_var\", \"model.model.6.m.5.cv1.conv.weight\", \"model.model.6.m.5.cv1.bn.weight\", \"model.model.6.m.5.cv1.bn.bias\", \"model.model.6.m.5.cv1.bn.running_mean\", \"model.model.6.m.5.cv1.bn.running_var\", \"model.model.6.m.5.cv2.conv.weight\", \"model.model.6.m.5.cv2.bn.weight\", \"model.model.6.m.5.cv2.bn.bias\", \"model.model.6.m.5.cv2.bn.running_mean\", \"model.model.6.m.5.cv2.bn.running_var\", \"model.model.7.conv.weight\", \"model.model.7.bn.weight\", \"model.model.7.bn.bias\", \"model.model.7.bn.running_mean\", \"model.model.7.bn.running_var\", \"model.model.8.cv1.conv.weight\", \"model.model.8.cv1.bn.weight\", \"model.model.8.cv1.bn.bias\", \"model.model.8.cv1.bn.running_mean\", \"model.model.8.cv1.bn.running_var\", \"model.model.8.cv2.conv.weight\", \"model.model.8.cv2.bn.weight\", \"model.model.8.cv2.bn.bias\", \"model.model.8.cv2.bn.running_mean\", \"model.model.8.cv2.bn.running_var\", \"model.model.8.cv3.conv.weight\", \"model.model.8.cv3.bn.weight\", \"model.model.8.cv3.bn.bias\", \"model.model.8.cv3.bn.running_mean\", \"model.model.8.cv3.bn.running_var\", \"model.model.8.m.0.cv1.conv.weight\", \"model.model.8.m.0.cv1.bn.weight\", \"model.model.8.m.0.cv1.bn.bias\", \"model.model.8.m.0.cv1.bn.running_mean\", \"model.model.8.m.0.cv1.bn.running_var\", \"model.model.8.m.0.cv2.conv.weight\", \"model.model.8.m.0.cv2.bn.weight\", \"model.model.8.m.0.cv2.bn.bias\", \"model.model.8.m.0.cv2.bn.running_mean\", \"model.model.8.m.0.cv2.bn.running_var\", \"model.model.8.m.1.cv1.conv.weight\", \"model.model.8.m.1.cv1.bn.weight\", \"model.model.8.m.1.cv1.bn.bias\", \"model.model.8.m.1.cv1.bn.running_mean\", \"model.model.8.m.1.cv1.bn.running_var\", \"model.model.8.m.1.cv2.conv.weight\", \"model.model.8.m.1.cv2.bn.weight\", \"model.model.8.m.1.cv2.bn.bias\", \"model.model.8.m.1.cv2.bn.running_mean\", \"model.model.8.m.1.cv2.bn.running_var\", \"model.model.9.cv1.conv.weight\", \"model.model.9.cv1.bn.weight\", \"model.model.9.cv1.bn.bias\", \"model.model.9.cv1.bn.running_mean\", \"model.model.9.cv1.bn.running_var\", \"model.model.9.cv2.conv.weight\", \"model.model.9.cv2.bn.weight\", \"model.model.9.cv2.bn.bias\", \"model.model.9.cv2.bn.running_mean\", \"model.model.9.cv2.bn.running_var\", \"model.model.10.conv.weight\", \"model.model.10.bn.weight\", \"model.model.10.bn.bias\", \"model.model.10.bn.running_mean\", \"model.model.10.bn.running_var\", \"model.model.13.cv1.conv.weight\", \"model.model.13.cv1.bn.weight\", \"model.model.13.cv1.bn.bias\", \"model.model.13.cv1.bn.running_mean\", \"model.model.13.cv1.bn.running_var\", \"model.model.13.cv2.conv.weight\", \"model.model.13.cv2.bn.weight\", \"model.model.13.cv2.bn.bias\", \"model.model.13.cv2.bn.running_mean\", \"model.model.13.cv2.bn.running_var\", \"model.model.13.cv3.conv.weight\", \"model.model.13.cv3.bn.weight\", \"model.model.13.cv3.bn.bias\", \"model.model.13.cv3.bn.running_mean\", \"model.model.13.cv3.bn.running_var\", \"model.model.13.m.0.cv1.conv.weight\", \"model.model.13.m.0.cv1.bn.weight\", \"model.model.13.m.0.cv1.bn.bias\", \"model.model.13.m.0.cv1.bn.running_mean\", \"model.model.13.m.0.cv1.bn.running_var\", \"model.model.13.m.0.cv2.conv.weight\", \"model.model.13.m.0.cv2.bn.weight\", \"model.model.13.m.0.cv2.bn.bias\", \"model.model.13.m.0.cv2.bn.running_mean\", \"model.model.13.m.0.cv2.bn.running_var\", \"model.model.13.m.1.cv1.conv.weight\", \"model.model.13.m.1.cv1.bn.weight\", \"model.model.13.m.1.cv1.bn.bias\", \"model.model.13.m.1.cv1.bn.running_mean\", \"model.model.13.m.1.cv1.bn.running_var\", \"model.model.13.m.1.cv2.conv.weight\", \"model.model.13.m.1.cv2.bn.weight\", \"model.model.13.m.1.cv2.bn.bias\", \"model.model.13.m.1.cv2.bn.running_mean\", \"model.model.13.m.1.cv2.bn.running_var\", \"model.model.14.conv.weight\", \"model.model.14.bn.weight\", \"model.model.14.bn.bias\", \"model.model.14.bn.running_mean\", \"model.model.14.bn.running_var\", \"model.model.17.cv1.conv.weight\", \"model.model.17.cv1.bn.weight\", \"model.model.17.cv1.bn.bias\", \"model.model.17.cv1.bn.running_mean\", \"model.model.17.cv1.bn.running_var\", \"model.model.17.cv2.conv.weight\", \"model.model.17.cv2.bn.weight\", \"model.model.17.cv2.bn.bias\", \"model.model.17.cv2.bn.running_mean\", \"model.model.17.cv2.bn.running_var\", \"model.model.17.cv3.conv.weight\", \"model.model.17.cv3.bn.weight\", \"model.model.17.cv3.bn.bias\", \"model.model.17.cv3.bn.running_mean\", \"model.model.17.cv3.bn.running_var\", \"model.model.17.m.0.cv1.conv.weight\", \"model.model.17.m.0.cv1.bn.weight\", \"model.model.17.m.0.cv1.bn.bias\", \"model.model.17.m.0.cv1.bn.running_mean\", \"model.model.17.m.0.cv1.bn.running_var\", \"model.model.17.m.0.cv2.conv.weight\", \"model.model.17.m.0.cv2.bn.weight\", \"model.model.17.m.0.cv2.bn.bias\", \"model.model.17.m.0.cv2.bn.running_mean\", \"model.model.17.m.0.cv2.bn.running_var\", \"model.model.17.m.1.cv1.conv.weight\", \"model.model.17.m.1.cv1.bn.weight\", \"model.model.17.m.1.cv1.bn.bias\", \"model.model.17.m.1.cv1.bn.running_mean\", \"model.model.17.m.1.cv1.bn.running_var\", \"model.model.17.m.1.cv2.conv.weight\", \"model.model.17.m.1.cv2.bn.weight\", \"model.model.17.m.1.cv2.bn.bias\", \"model.model.17.m.1.cv2.bn.running_mean\", \"model.model.17.m.1.cv2.bn.running_var\", \"model.model.18.conv.weight\", \"model.model.18.bn.weight\", \"model.model.18.bn.bias\", \"model.model.18.bn.running_mean\", \"model.model.18.bn.running_var\", \"model.model.20.cv1.conv.weight\", \"model.model.20.cv1.bn.weight\", \"model.model.20.cv1.bn.bias\", \"model.model.20.cv1.bn.running_mean\", \"model.model.20.cv1.bn.running_var\", \"model.model.20.cv2.conv.weight\", \"model.model.20.cv2.bn.weight\", \"model.model.20.cv2.bn.bias\", \"model.model.20.cv2.bn.running_mean\", \"model.model.20.cv2.bn.running_var\", \"model.model.20.cv3.conv.weight\", \"model.model.20.cv3.bn.weight\", \"model.model.20.cv3.bn.bias\", \"model.model.20.cv3.bn.running_mean\", \"model.model.20.cv3.bn.running_var\", \"model.model.20.m.0.cv1.conv.weight\", \"model.model.20.m.0.cv1.bn.weight\", \"model.model.20.m.0.cv1.bn.bias\", \"model.model.20.m.0.cv1.bn.running_mean\", \"model.model.20.m.0.cv1.bn.running_var\", \"model.model.20.m.0.cv2.conv.weight\", \"model.model.20.m.0.cv2.bn.weight\", \"model.model.20.m.0.cv2.bn.bias\", \"model.model.20.m.0.cv2.bn.running_mean\", \"model.model.20.m.0.cv2.bn.running_var\", \"model.model.20.m.1.cv1.conv.weight\", \"model.model.20.m.1.cv1.bn.weight\", \"model.model.20.m.1.cv1.bn.bias\", \"model.model.20.m.1.cv1.bn.running_mean\", \"model.model.20.m.1.cv1.bn.running_var\", \"model.model.20.m.1.cv2.conv.weight\", \"model.model.20.m.1.cv2.bn.weight\", \"model.model.20.m.1.cv2.bn.bias\", \"model.model.20.m.1.cv2.bn.running_mean\", \"model.model.20.m.1.cv2.bn.running_var\", \"model.model.21.conv.weight\", \"model.model.21.bn.weight\", \"model.model.21.bn.bias\", \"model.model.21.bn.running_mean\", \"model.model.21.bn.running_var\", \"model.model.23.cv1.conv.weight\", \"model.model.23.cv1.bn.weight\", \"model.model.23.cv1.bn.bias\", \"model.model.23.cv1.bn.running_mean\", \"model.model.23.cv1.bn.running_var\", \"model.model.23.cv2.conv.weight\", \"model.model.23.cv2.bn.weight\", \"model.model.23.cv2.bn.bias\", \"model.model.23.cv2.bn.running_mean\", \"model.model.23.cv2.bn.running_var\", \"model.model.23.cv3.conv.weight\", \"model.model.23.cv3.bn.weight\", \"model.model.23.cv3.bn.bias\", \"model.model.23.cv3.bn.running_mean\", \"model.model.23.cv3.bn.running_var\", \"model.model.23.m.0.cv1.conv.weight\", \"model.model.23.m.0.cv1.bn.weight\", \"model.model.23.m.0.cv1.bn.bias\", \"model.model.23.m.0.cv1.bn.running_mean\", \"model.model.23.m.0.cv1.bn.running_var\", \"model.model.23.m.0.cv2.conv.weight\", \"model.model.23.m.0.cv2.bn.weight\", \"model.model.23.m.0.cv2.bn.bias\", \"model.model.23.m.0.cv2.bn.running_mean\", \"model.model.23.m.0.cv2.bn.running_var\", \"model.model.23.m.1.cv1.conv.weight\", \"model.model.23.m.1.cv1.bn.weight\", \"model.model.23.m.1.cv1.bn.bias\", \"model.model.23.m.1.cv1.bn.running_mean\", \"model.model.23.m.1.cv1.bn.running_var\", \"model.model.23.m.1.cv2.conv.weight\", \"model.model.23.m.1.cv2.bn.weight\", \"model.model.23.m.1.cv2.bn.bias\", \"model.model.23.m.1.cv2.bn.running_mean\", \"model.model.23.m.1.cv2.bn.running_var\", \"model.model.24.anchors\", \"model.model.24.m.0.weight\", \"model.model.24.m.0.bias\", \"model.model.24.m.1.weight\", \"model.model.24.m.1.bias\", \"model.model.24.m.2.weight\", \"model.model.24.m.2.bias\". \n\tUnexpected key(s) in state_dict: \"model.0.conv.weight\", \"model.0.bn.weight\", \"model.0.bn.bias\", \"model.0.bn.running_mean\", \"model.0.bn.running_var\", \"model.0.bn.num_batches_tracked\", \"model.1.conv.weight\", \"model.1.bn.weight\", \"model.1.bn.bias\", \"model.1.bn.running_mean\", \"model.1.bn.running_var\", \"model.1.bn.num_batches_tracked\", \"model.2.cv1.conv.weight\", \"model.2.cv1.bn.weight\", \"model.2.cv1.bn.bias\", \"model.2.cv1.bn.running_mean\", \"model.2.cv1.bn.running_var\", \"model.2.cv1.bn.num_batches_tracked\", \"model.2.cv2.conv.weight\", \"model.2.cv2.bn.weight\", \"model.2.cv2.bn.bias\", \"model.2.cv2.bn.running_mean\", \"model.2.cv2.bn.running_var\", \"model.2.cv2.bn.num_batches_tracked\", \"model.2.cv3.conv.weight\", \"model.2.cv3.bn.weight\", \"model.2.cv3.bn.bias\", \"model.2.cv3.bn.running_mean\", \"model.2.cv3.bn.running_var\", \"model.2.cv3.bn.num_batches_tracked\", \"model.2.m.0.cv1.conv.weight\", \"model.2.m.0.cv1.bn.weight\", \"model.2.m.0.cv1.bn.bias\", \"model.2.m.0.cv1.bn.running_mean\", \"model.2.m.0.cv1.bn.running_var\", \"model.2.m.0.cv1.bn.num_batches_tracked\", \"model.2.m.0.cv2.conv.weight\", \"model.2.m.0.cv2.bn.weight\", \"model.2.m.0.cv2.bn.bias\", \"model.2.m.0.cv2.bn.running_mean\", \"model.2.m.0.cv2.bn.running_var\", \"model.2.m.0.cv2.bn.num_batches_tracked\", \"model.2.m.1.cv1.conv.weight\", \"model.2.m.1.cv1.bn.weight\", \"model.2.m.1.cv1.bn.bias\", \"model.2.m.1.cv1.bn.running_mean\", \"model.2.m.1.cv1.bn.running_var\", \"model.2.m.1.cv1.bn.num_batches_tracked\", \"model.2.m.1.cv2.conv.weight\", \"model.2.m.1.cv2.bn.weight\", \"model.2.m.1.cv2.bn.bias\", \"model.2.m.1.cv2.bn.running_mean\", \"model.2.m.1.cv2.bn.running_var\", \"model.2.m.1.cv2.bn.num_batches_tracked\", \"model.3.conv.weight\", \"model.3.bn.weight\", \"model.3.bn.bias\", \"model.3.bn.running_mean\", \"model.3.bn.running_var\", \"model.3.bn.num_batches_tracked\", \"model.4.cv1.conv.weight\", \"model.4.cv1.bn.weight\", \"model.4.cv1.bn.bias\", \"model.4.cv1.bn.running_mean\", \"model.4.cv1.bn.running_var\", \"model.4.cv1.bn.num_batches_tracked\", \"model.4.cv2.conv.weight\", \"model.4.cv2.bn.weight\", \"model.4.cv2.bn.bias\", \"model.4.cv2.bn.running_mean\", \"model.4.cv2.bn.running_var\", \"model.4.cv2.bn.num_batches_tracked\", \"model.4.cv3.conv.weight\", \"model.4.cv3.bn.weight\", \"model.4.cv3.bn.bias\", \"model.4.cv3.bn.running_mean\", \"model.4.cv3.bn.running_var\", \"model.4.cv3.bn.num_batches_tracked\", \"model.4.m.0.cv1.conv.weight\", \"model.4.m.0.cv1.bn.weight\", \"model.4.m.0.cv1.bn.bias\", \"model.4.m.0.cv1.bn.running_mean\", \"model.4.m.0.cv1.bn.running_var\", \"model.4.m.0.cv1.bn.num_batches_tracked\", \"model.4.m.0.cv2.conv.weight\", \"model.4.m.0.cv2.bn.weight\", \"model.4.m.0.cv2.bn.bias\", \"model.4.m.0.cv2.bn.running_mean\", \"model.4.m.0.cv2.bn.running_var\", \"model.4.m.0.cv2.bn.num_batches_tracked\", \"model.4.m.1.cv1.conv.weight\", \"model.4.m.1.cv1.bn.weight\", \"model.4.m.1.cv1.bn.bias\", \"model.4.m.1.cv1.bn.running_mean\", \"model.4.m.1.cv1.bn.running_var\", \"model.4.m.1.cv1.bn.num_batches_tracked\", \"model.4.m.1.cv2.conv.weight\", \"model.4.m.1.cv2.bn.weight\", \"model.4.m.1.cv2.bn.bias\", \"model.4.m.1.cv2.bn.running_mean\", \"model.4.m.1.cv2.bn.running_var\", \"model.4.m.1.cv2.bn.num_batches_tracked\", \"model.4.m.2.cv1.conv.weight\", \"model.4.m.2.cv1.bn.weight\", \"model.4.m.2.cv1.bn.bias\", \"model.4.m.2.cv1.bn.running_mean\", \"model.4.m.2.cv1.bn.running_var\", \"model.4.m.2.cv1.bn.num_batches_tracked\", \"model.4.m.2.cv2.conv.weight\", \"model.4.m.2.cv2.bn.weight\", \"model.4.m.2.cv2.bn.bias\", \"model.4.m.2.cv2.bn.running_mean\", \"model.4.m.2.cv2.bn.running_var\", \"model.4.m.2.cv2.bn.num_batches_tracked\", \"model.4.m.3.cv1.conv.weight\", \"model.4.m.3.cv1.bn.weight\", \"model.4.m.3.cv1.bn.bias\", \"model.4.m.3.cv1.bn.running_mean\", \"model.4.m.3.cv1.bn.running_var\", \"model.4.m.3.cv1.bn.num_batches_tracked\", \"model.4.m.3.cv2.conv.weight\", \"model.4.m.3.cv2.bn.weight\", \"model.4.m.3.cv2.bn.bias\", \"model.4.m.3.cv2.bn.running_mean\", \"model.4.m.3.cv2.bn.running_var\", \"model.4.m.3.cv2.bn.num_batches_tracked\", \"model.5.conv.weight\", \"model.5.bn.weight\", \"model.5.bn.bias\", \"model.5.bn.running_mean\", \"model.5.bn.running_var\", \"model.5.bn.num_batches_tracked\", \"model.6.cv1.conv.weight\", \"model.6.cv1.bn.weight\", \"model.6.cv1.bn.bias\", \"model.6.cv1.bn.running_mean\", \"model.6.cv1.bn.running_var\", \"model.6.cv1.bn.num_batches_tracked\", \"model.6.cv2.conv.weight\", \"model.6.cv2.bn.weight\", \"model.6.cv2.bn.bias\", \"model.6.cv2.bn.running_mean\", \"model.6.cv2.bn.running_var\", \"model.6.cv2.bn.num_batches_tracked\", \"model.6.cv3.conv.weight\", \"model.6.cv3.bn.weight\", \"model.6.cv3.bn.bias\", \"model.6.cv3.bn.running_mean\", \"model.6.cv3.bn.running_var\", \"model.6.cv3.bn.num_batches_tracked\", \"model.6.m.0.cv1.conv.weight\", \"model.6.m.0.cv1.bn.weight\", \"model.6.m.0.cv1.bn.bias\", \"model.6.m.0.cv1.bn.running_mean\", \"model.6.m.0.cv1.bn.running_var\", \"model.6.m.0.cv1.bn.num_batches_tracked\", \"model.6.m.0.cv2.conv.weight\", \"model.6.m.0.cv2.bn.weight\", \"model.6.m.0.cv2.bn.bias\", \"model.6.m.0.cv2.bn.running_mean\", \"model.6.m.0.cv2.bn.running_var\", \"model.6.m.0.cv2.bn.num_batches_tracked\", \"model.6.m.1.cv1.conv.weight\", \"model.6.m.1.cv1.bn.weight\", \"model.6.m.1.cv1.bn.bias\", \"model.6.m.1.cv1.bn.running_mean\", \"model.6.m.1.cv1.bn.running_var\", \"model.6.m.1.cv1.bn.num_batches_tracked\", \"model.6.m.1.cv2.conv.weight\", \"model.6.m.1.cv2.bn.weight\", \"model.6.m.1.cv2.bn.bias\", \"model.6.m.1.cv2.bn.running_mean\", \"model.6.m.1.cv2.bn.running_var\", \"model.6.m.1.cv2.bn.num_batches_tracked\", \"model.6.m.2.cv1.conv.weight\", \"model.6.m.2.cv1.bn.weight\", \"model.6.m.2.cv1.bn.bias\", \"model.6.m.2.cv1.bn.running_mean\", \"model.6.m.2.cv1.bn.running_var\", \"model.6.m.2.cv1.bn.num_batches_tracked\", \"model.6.m.2.cv2.conv.weight\", \"model.6.m.2.cv2.bn.weight\", \"model.6.m.2.cv2.bn.bias\", \"model.6.m.2.cv2.bn.running_mean\", \"model.6.m.2.cv2.bn.running_var\", \"model.6.m.2.cv2.bn.num_batches_tracked\", \"model.6.m.3.cv1.conv.weight\", \"model.6.m.3.cv1.bn.weight\", \"model.6.m.3.cv1.bn.bias\", \"model.6.m.3.cv1.bn.running_mean\", \"model.6.m.3.cv1.bn.running_var\", \"model.6.m.3.cv1.bn.num_batches_tracked\", \"model.6.m.3.cv2.conv.weight\", \"model.6.m.3.cv2.bn.weight\", \"model.6.m.3.cv2.bn.bias\", \"model.6.m.3.cv2.bn.running_mean\", \"model.6.m.3.cv2.bn.running_var\", \"model.6.m.3.cv2.bn.num_batches_tracked\", \"model.6.m.4.cv1.conv.weight\", \"model.6.m.4.cv1.bn.weight\", \"model.6.m.4.cv1.bn.bias\", \"model.6.m.4.cv1.bn.running_mean\", \"model.6.m.4.cv1.bn.running_var\", \"model.6.m.4.cv1.bn.num_batches_tracked\", \"model.6.m.4.cv2.conv.weight\", \"model.6.m.4.cv2.bn.weight\", \"model.6.m.4.cv2.bn.bias\", \"model.6.m.4.cv2.bn.running_mean\", \"model.6.m.4.cv2.bn.running_var\", \"model.6.m.4.cv2.bn.num_batches_tracked\", \"model.6.m.5.cv1.conv.weight\", \"model.6.m.5.cv1.bn.weight\", \"model.6.m.5.cv1.bn.bias\", \"model.6.m.5.cv1.bn.running_mean\", \"model.6.m.5.cv1.bn.running_var\", \"model.6.m.5.cv1.bn.num_batches_tracked\", \"model.6.m.5.cv2.conv.weight\", \"model.6.m.5.cv2.bn.weight\", \"model.6.m.5.cv2.bn.bias\", \"model.6.m.5.cv2.bn.running_mean\", \"model.6.m.5.cv2.bn.running_var\", \"model.6.m.5.cv2.bn.num_batches_tracked\", \"model.7.conv.weight\", \"model.7.bn.weight\", \"model.7.bn.bias\", \"model.7.bn.running_mean\", \"model.7.bn.running_var\", \"model.7.bn.num_batches_tracked\", \"model.8.cv1.conv.weight\", \"model.8.cv1.bn.weight\", \"model.8.cv1.bn.bias\", \"model.8.cv1.bn.running_mean\", \"model.8.cv1.bn.running_var\", \"model.8.cv1.bn.num_batches_tracked\", \"model.8.cv2.conv.weight\", \"model.8.cv2.bn.weight\", \"model.8.cv2.bn.bias\", \"model.8.cv2.bn.running_mean\", \"model.8.cv2.bn.running_var\", \"model.8.cv2.bn.num_batches_tracked\", \"model.8.cv3.conv.weight\", \"model.8.cv3.bn.weight\", \"model.8.cv3.bn.bias\", \"model.8.cv3.bn.running_mean\", \"model.8.cv3.bn.running_var\", \"model.8.cv3.bn.num_batches_tracked\", \"model.8.m.0.cv1.conv.weight\", \"model.8.m.0.cv1.bn.weight\", \"model.8.m.0.cv1.bn.bias\", \"model.8.m.0.cv1.bn.running_mean\", \"model.8.m.0.cv1.bn.running_var\", \"model.8.m.0.cv1.bn.num_batches_tracked\", \"model.8.m.0.cv2.conv.weight\", \"model.8.m.0.cv2.bn.weight\", \"model.8.m.0.cv2.bn.bias\", \"model.8.m.0.cv2.bn.running_mean\", \"model.8.m.0.cv2.bn.running_var\", \"model.8.m.0.cv2.bn.num_batches_tracked\", \"model.8.m.1.cv1.conv.weight\", \"model.8.m.1.cv1.bn.weight\", \"model.8.m.1.cv1.bn.bias\", \"model.8.m.1.cv1.bn.running_mean\", \"model.8.m.1.cv1.bn.running_var\", \"model.8.m.1.cv1.bn.num_batches_tracked\", \"model.8.m.1.cv2.conv.weight\", \"model.8.m.1.cv2.bn.weight\", \"model.8.m.1.cv2.bn.bias\", \"model.8.m.1.cv2.bn.running_mean\", \"model.8.m.1.cv2.bn.running_var\", \"model.8.m.1.cv2.bn.num_batches_tracked\", \"model.9.cv1.conv.weight\", \"model.9.cv1.bn.weight\", \"model.9.cv1.bn.bias\", \"model.9.cv1.bn.running_mean\", \"model.9.cv1.bn.running_var\", \"model.9.cv1.bn.num_batches_tracked\", \"model.9.cv2.conv.weight\", \"model.9.cv2.bn.weight\", \"model.9.cv2.bn.bias\", \"model.9.cv2.bn.running_mean\", \"model.9.cv2.bn.running_var\", \"model.9.cv2.bn.num_batches_tracked\", \"model.10.conv.weight\", \"model.10.bn.weight\", \"model.10.bn.bias\", \"model.10.bn.running_mean\", \"model.10.bn.running_var\", \"model.10.bn.num_batches_tracked\", \"model.13.cv1.conv.weight\", \"model.13.cv1.bn.weight\", \"model.13.cv1.bn.bias\", \"model.13.cv1.bn.running_mean\", \"model.13.cv1.bn.running_var\", \"model.13.cv1.bn.num_batches_tracked\", \"model.13.cv2.conv.weight\", \"model.13.cv2.bn.weight\", \"model.13.cv2.bn.bias\", \"model.13.cv2.bn.running_mean\", \"model.13.cv2.bn.running_var\", \"model.13.cv2.bn.num_batches_tracked\", \"model.13.cv3.conv.weight\", \"model.13.cv3.bn.weight\", \"model.13.cv3.bn.bias\", \"model.13.cv3.bn.running_mean\", \"model.13.cv3.bn.running_var\", \"model.13.cv3.bn.num_batches_tracked\", \"model.13.m.0.cv1.conv.weight\", \"model.13.m.0.cv1.bn.weight\", \"model.13.m.0.cv1.bn.bias\", \"model.13.m.0.cv1.bn.running_mean\", \"model.13.m.0.cv1.bn.running_var\", \"model.13.m.0.cv1.bn.num_batches_tracked\", \"model.13.m.0.cv2.conv.weight\", \"model.13.m.0.cv2.bn.weight\", \"model.13.m.0.cv2.bn.bias\", \"model.13.m.0.cv2.bn.running_mean\", \"model.13.m.0.cv2.bn.running_var\", \"model.13.m.0.cv2.bn.num_batches_tracked\", \"model.13.m.1.cv1.conv.weight\", \"model.13.m.1.cv1.bn.weight\", \"model.13.m.1.cv1.bn.bias\", \"model.13.m.1.cv1.bn.running_mean\", \"model.13.m.1.cv1.bn.running_var\", \"model.13.m.1.cv1.bn.num_batches_tracked\", \"model.13.m.1.cv2.conv.weight\", \"model.13.m.1.cv2.bn.weight\", \"model.13.m.1.cv2.bn.bias\", \"model.13.m.1.cv2.bn.running_mean\", \"model.13.m.1.cv2.bn.running_var\", \"model.13.m.1.cv2.bn.num_batches_tracked\", \"model.14.conv.weight\", \"model.14.bn.weight\", \"model.14.bn.bias\", \"model.14.bn.running_mean\", \"model.14.bn.running_var\", \"model.14.bn.num_batches_tracked\", \"model.17.cv1.conv.weight\", \"model.17.cv1.bn.weight\", \"model.17.cv1.bn.bias\", \"model.17.cv1.bn.running_mean\", \"model.17.cv1.bn.running_var\", \"model.17.cv1.bn.num_batches_tracked\", \"model.17.cv2.conv.weight\", \"model.17.cv2.bn.weight\", \"model.17.cv2.bn.bias\", \"model.17.cv2.bn.running_mean\", \"model.17.cv2.bn.running_var\", \"model.17.cv2.bn.num_batches_tracked\", \"model.17.cv3.conv.weight\", \"model.17.cv3.bn.weight\", \"model.17.cv3.bn.bias\", \"model.17.cv3.bn.running_mean\", \"model.17.cv3.bn.running_var\", \"model.17.cv3.bn.num_batches_tracked\", \"model.17.m.0.cv1.conv.weight\", \"model.17.m.0.cv1.bn.weight\", \"model.17.m.0.cv1.bn.bias\", \"model.17.m.0.cv1.bn.running_mean\", \"model.17.m.0.cv1.bn.running_var\", \"model.17.m.0.cv1.bn.num_batches_tracked\", \"model.17.m.0.cv2.conv.weight\", \"model.17.m.0.cv2.bn.weight\", \"model.17.m.0.cv2.bn.bias\", \"model.17.m.0.cv2.bn.running_mean\", \"model.17.m.0.cv2.bn.running_var\", \"model.17.m.0.cv2.bn.num_batches_tracked\", \"model.17.m.1.cv1.conv.weight\", \"model.17.m.1.cv1.bn.weight\", \"model.17.m.1.cv1.bn.bias\", \"model.17.m.1.cv1.bn.running_mean\", \"model.17.m.1.cv1.bn.running_var\", \"model.17.m.1.cv1.bn.num_batches_tracked\", \"model.17.m.1.cv2.conv.weight\", \"model.17.m.1.cv2.bn.weight\", \"model.17.m.1.cv2.bn.bias\", \"model.17.m.1.cv2.bn.running_mean\", \"model.17.m.1.cv2.bn.running_var\", \"model.17.m.1.cv2.bn.num_batches_tracked\", \"model.18.conv.weight\", \"model.18.bn.weight\", \"model.18.bn.bias\", \"model.18.bn.running_mean\", \"model.18.bn.running_var\", \"model.18.bn.num_batches_tracked\", \"model.20.cv1.conv.weight\", \"model.20.cv1.bn.weight\", \"model.20.cv1.bn.bias\", \"model.20.cv1.bn.running_mean\", \"model.20.cv1.bn.running_var\", \"model.20.cv1.bn.num_batches_tracked\", \"model.20.cv2.conv.weight\", \"model.20.cv2.bn.weight\", \"model.20.cv2.bn.bias\", \"model.20.cv2.bn.running_mean\", \"model.20.cv2.bn.running_var\", \"model.20.cv2.bn.num_batches_tracked\", \"model.20.cv3.conv.weight\", \"model.20.cv3.bn.weight\", \"model.20.cv3.bn.bias\", \"model.20.cv3.bn.running_mean\", \"model.20.cv3.bn.running_var\", \"model.20.cv3.bn.num_batches_tracked\", \"model.20.m.0.cv1.conv.weight\", \"model.20.m.0.cv1.bn.weight\", \"model.20.m.0.cv1.bn.bias\", \"model.20.m.0.cv1.bn.running_mean\", \"model.20.m.0.cv1.bn.running_var\", \"model.20.m.0.cv1.bn.num_batches_tracked\", \"model.20.m.0.cv2.conv.weight\", \"model.20.m.0.cv2.bn.weight\", \"model.20.m.0.cv2.bn.bias\", \"model.20.m.0.cv2.bn.running_mean\", \"model.20.m.0.cv2.bn.running_var\", \"model.20.m.0.cv2.bn.num_batches_tracked\", \"model.20.m.1.cv1.conv.weight\", \"model.20.m.1.cv1.bn.weight\", \"model.20.m.1.cv1.bn.bias\", \"model.20.m.1.cv1.bn.running_mean\", \"model.20.m.1.cv1.bn.running_var\", \"model.20.m.1.cv1.bn.num_batches_tracked\", \"model.20.m.1.cv2.conv.weight\", \"model.20.m.1.cv2.bn.weight\", \"model.20.m.1.cv2.bn.bias\", \"model.20.m.1.cv2.bn.running_mean\", \"model.20.m.1.cv2.bn.running_var\", \"model.20.m.1.cv2.bn.num_batches_tracked\", \"model.21.conv.weight\", \"model.21.bn.weight\", \"model.21.bn.bias\", \"model.21.bn.running_mean\", \"model.21.bn.running_var\", \"model.21.bn.num_batches_tracked\", \"model.23.cv1.conv.weight\", \"model.23.cv1.bn.weight\", \"model.23.cv1.bn.bias\", \"model.23.cv1.bn.running_mean\", \"model.23.cv1.bn.running_var\", \"model.23.cv1.bn.num_batches_tracked\", \"model.23.cv2.conv.weight\", \"model.23.cv2.bn.weight\", \"model.23.cv2.bn.bias\", \"model.23.cv2.bn.running_mean\", \"model.23.cv2.bn.running_var\", \"model.23.cv2.bn.num_batches_tracked\", \"model.23.cv3.conv.weight\", \"model.23.cv3.bn.weight\", \"model.23.cv3.bn.bias\", \"model.23.cv3.bn.running_mean\", \"model.23.cv3.bn.running_var\", \"model.23.cv3.bn.num_batches_tracked\", \"model.23.m.0.cv1.conv.weight\", \"model.23.m.0.cv1.bn.weight\", \"model.23.m.0.cv1.bn.bias\", \"model.23.m.0.cv1.bn.running_mean\", \"model.23.m.0.cv1.bn.running_var\", \"model.23.m.0.cv1.bn.num_batches_tracked\", \"model.23.m.0.cv2.conv.weight\", \"model.23.m.0.cv2.bn.weight\", \"model.23.m.0.cv2.bn.bias\", \"model.23.m.0.cv2.bn.running_mean\", \"model.23.m.0.cv2.bn.running_var\", \"model.23.m.0.cv2.bn.num_batches_tracked\", \"model.23.m.1.cv1.conv.weight\", \"model.23.m.1.cv1.bn.weight\", \"model.23.m.1.cv1.bn.bias\", \"model.23.m.1.cv1.bn.running_mean\", \"model.23.m.1.cv1.bn.running_var\", \"model.23.m.1.cv1.bn.num_batches_tracked\", \"model.23.m.1.cv2.conv.weight\", \"model.23.m.1.cv2.bn.weight\", \"model.23.m.1.cv2.bn.bias\", \"model.23.m.1.cv2.bn.running_mean\", \"model.23.m.1.cv2.bn.running_var\", \"model.23.m.1.cv2.bn.num_batches_tracked\", \"model.24.anchors\", \"model.24.m.0.weight\", \"model.24.m.0.bias\", \"model.24.m.1.weight\", \"model.24.m.1.bias\", \"model.24.m.2.weight\", \"model.24.m.2.bias\". "
     ]
    }
   ],
   "source": [
    "model.load_state_dict(torch.load(weight)['model'].state_dict())"
   ],
   "metadata": {
    "collapsed": false,
    "pycharm": {
     "name": "#%%\n"
    }
   }
  },
  {
   "cell_type": "code",
   "execution_count": null,
   "outputs": [],
   "source": [],
   "metadata": {
    "collapsed": false,
    "pycharm": {
     "name": "#%%\n"
    }
   }
  },
  {
   "cell_type": "code",
   "execution_count": 39,
   "outputs": [
    {
     "data": {
      "text/plain": "<models.common.Detections at 0x1e33c898280>"
     },
     "execution_count": 39,
     "metadata": {},
     "output_type": "execute_result"
    }
   ],
   "source": [
    "test_img = 'https://ultralytics.com/images/zidane.jpg'\n",
    "model(test_img, size=640)"
   ],
   "metadata": {
    "collapsed": false,
    "pycharm": {
     "name": "#%%\n"
    }
   }
  },
  {
   "cell_type": "code",
   "execution_count": null,
   "outputs": [],
   "source": [
    "app = Flask(__name__)\n",
    "\n",
    "\n",
    "@app.route(DETECTION_URL, methods=[\"POST\"])\n",
    "def predict():\n",
    "    if not request.method == \"POST\":\n",
    "        return\n",
    "\n",
    "    if request.files.get(\"image\"):\n",
    "        im_file = request.files[\"image\"]\n",
    "        im_bytes = im_file.read()\n",
    "        im = Image.open(io.BytesIO(im_bytes))\n",
    "\n",
    "        result = model(im, size=640)\n",
    "        return\n",
    "\n",
    "\n",
    "\n"
   ],
   "metadata": {
    "collapsed": false,
    "pycharm": {
     "name": "#%%\n"
    }
   }
  },
  {
   "cell_type": "code",
   "execution_count": null,
   "outputs": [],
   "source": [
    "# reading stream video from camera\n",
    "camera = cv2.VideoCapture(0)\n",
    "\n",
    "h, w = None, None\n",
    "\n",
    "with open('data/classes.txt') as f:\n",
    "    labels = [line.strip() for line in f]\n",
    "\n",
    "\"\"\"\n",
    "YOLOv5 모델 관련 베이직 세팅\n",
    "\"\"\"\n",
    "# 학습된 YOLOv5 로드\n",
    "model_path = \"../yolov5/runs/train/smart_farms_third/weights/best.pt\"\n",
    "weights = torch.load(model_path)\n",
    "\n",
    "# print(model)\n",
    "# 학습 될때 필요한 레이블들 가져 오기\n",
    "# layers_names_all = model.getLayerNames()\n",
    "\n",
    "# # 가져온 레이블들 리스트화\n",
    "# #layers_names_output = [layers_names_all[i[0]]-1 for i in m.getUnconnectedOutLayers]\n",
    "# # 아웃풋 체크\n",
    "# print(layers_names_output)\n",
    "#\n",
    "# 탐지될 최소 확률\n",
    "probability_minimum = 0.2\n",
    "threshold = 0.3\n",
    "\n",
    "# 특, 상, 보통 을 나타낼 색상 RGB 코드 불러오기\n",
    "green = (0, 128, 0)\n",
    "orange = (255, 165, 0)\n",
    "yellow = (234, 211, 202)\n",
    "#\n",
    "# \"\"\"\n",
    "# 스트리밍 영상 처리\n",
    "# \"\"\"\n",
    "# # 스트리밍 영상에서 들어오는 이미지를 반복문을 통해 프레임 단위 이미지 처리\n",
    "while True:\n",
    "    _, frame = camera.read()\n",
    "    # 프레임으로부터 spatial dimension을 2차원 형태로 불러오기\n",
    "    if w is None or h is None:\n",
    "        h, w = frame.shape[:2]\n",
    "    # 현재의 영상 이미지 처리를 위해 4차원 형태의 blob 형태로 변환\n",
    "    blob = cv2.dnn.blobFromImage(frame, 1/255.0, (640,640),\n",
    "                    swapRB=True, crop=False)\n",
    "#     # 블롭 파일을 형태로 input 형태로 변환\n",
    "#     network.setInput(blob)\n",
    "#     start = time.time()\n",
    "#     output_from_network = network.forward(layers_names_output)\n",
    "#\n",
    "#     # 바운딩박스, confidence, 클래스 저장 리스트\n",
    "#     bounding_boxes = []\n",
    "#     confidences = []\n",
    "#     class_numbers = []\n",
    "#     x_min, y_min , box_height, box_width = None, None, None, None\n",
    "#\n",
    "#     # 모든 output layers들 처리\n",
    "#     for result in output_from_network:\n",
    "#         # 현재 레이어에 감지된 모든 물체들을 처리\n",
    "#         for detected_objects in result:\n",
    "#             # 현재 감지된 물체의 확률\n",
    "#             scores = detected_objects[5:]\n",
    "#             # 맥시멈 확률\n",
    "#             class_current = np.argmax(scores)\n",
    "#             # 현재 confidence score로 설정\n",
    "#             confidence_current = scores[class_current]\n",
    "#             # 현재 confidence score\n",
    "#             if confidence_current > probability_minimum:\n",
    "#                 box_current = detected_objects[0:4] * np.array([w, h, w, h])\n",
    "#                 #\n",
    "#                 x_center, y_center, box_width, box_height = box_current\n",
    "#                 x_min = int(x_center - (box_width / 2))\n",
    "#                 y_min = int(y_center - (box_height / 2))\n",
    "#\n",
    "#                 bounding_boxes.append([x_min, y_min, int(box_width), int(box_height)])\n",
    "#                 confidences.append(float(confidence_current))\n",
    "#                 class_numbers.append(class_current)\n",
    "#\n",
    "#     results = cv2.dnn.NMSBoxes(bounding_boxes, confidences, probability_minimum, threshold)\n",
    "#\n",
    "#     if len(results) > 0:\n",
    "#\n",
    "#         for i in results.flatten():\n",
    "#             x_min, y_min = bounding_boxes[i][0], bounding_boxes[i][1]\n",
    "#             box_width, box_height = bounding_boxes[i][2], bounding_boxes[i][3]\n",
    "#\n",
    "#         current_label = class_numbers[i]\n",
    "#\n",
    "#         if current_label == 'High':\n",
    "#             color_current = list(green)\n",
    "#         elif current_label == 'Medium':\n",
    "#             color_current = list(yellow)\n",
    "#         else:\n",
    "#             color_current = list(orange)\n",
    "#\n",
    "#         cv2.rectangle(frame, (x_min, y_min),\n",
    "#                       (x_min + box_width, y_min + box_height),\n",
    "#                       color_current, 2)\n",
    "#\n",
    "#         text_box_current = '{}: {:.4f}'.format(current_label, confidences[i])\n",
    "#\n",
    "#         cv2.putText(frame, text_box_current, (x_min, y_min-5),\n",
    "#                     cv2.FONT_HERSHEY_PLAIN, 0.5, color_current, 2)\n",
    "#\n",
    "#\n",
    "#         cv2.namedWindow('YOLOv5 Real Time Test', cv2.WINDOW_NORMAL)\n",
    "#\n",
    "#         cv2.imshow('YOLOv5 Real TIme Test', frame)\n",
    "#\n",
    "#         if cv2.waitKey(1) & 0xFF == ord('q'):\n",
    "#             break\n",
    "#\n",
    "# camera.release()\n",
    "# cv2.destroyAllWindows()"
   ],
   "metadata": {
    "collapsed": false,
    "pycharm": {
     "name": "#%%\n"
    }
   }
  },
  {
   "cell_type": "code",
   "execution_count": null,
   "outputs": [],
   "source": [],
   "metadata": {
    "collapsed": false,
    "pycharm": {
     "name": "#%%\n"
    }
   }
  }
 ],
 "metadata": {
  "kernelspec": {
   "display_name": "Python 3",
   "language": "python",
   "name": "python3"
  },
  "language_info": {
   "codemirror_mode": {
    "name": "ipython",
    "version": 2
   },
   "file_extension": ".py",
   "mimetype": "text/x-python",
   "name": "python",
   "nbconvert_exporter": "python",
   "pygments_lexer": "ipython2",
   "version": "2.7.6"
  }
 },
 "nbformat": 4,
 "nbformat_minor": 0
}