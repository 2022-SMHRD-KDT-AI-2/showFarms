{
 "cells": [
  {
   "cell_type": "code",
   "execution_count": 1,
   "metadata": {
    "collapsed": true,
    "pycharm": {
     "name": "#%%\n"
    }
   },
   "outputs": [],
   "source": [
    "import numpy as np\n",
    "import pandas as pd\n",
    "import os"
   ]
  },
  {
   "cell_type": "code",
   "execution_count": 2,
   "outputs": [],
   "source": [
    "directory = \"D:\\농산물 품질(QC) 이미지\\Validation\\label\""
   ],
   "metadata": {
    "collapsed": false,
    "pycharm": {
     "name": "#%%\n"
    }
   }
  },
  {
   "cell_type": "code",
   "execution_count": 3,
   "outputs": [],
   "source": [
    "df = pd.DataFrame(columns = ['ImageID','LabelName','XMin','XMax','YMin','YMax'])\n",
    "for i,j in enumerate(os.listdir(directory)):\n",
    "    dir = os.path.join(directory, j)\n",
    "    try :\n",
    "        file = pd.read_json(dir)\n",
    "    except :\n",
    "        break\n",
    "\n",
    "    temp = pd.DataFrame({'ImageID':j[:-5],'LabelName':file.iloc[0,6],'XMin':file.iloc[1].bndbox,'XMax':file.iloc[0].bndbox,'YMin':file.iloc[3].bndbox,'YMax':file.iloc[2].bndbox}, index = [i])\n",
    "    df = pd.concat([df, temp])"
   ],
   "metadata": {
    "collapsed": false,
    "pycharm": {
     "name": "#%%\n"
    }
   }
  },
  {
   "cell_type": "code",
   "execution_count": 4,
   "outputs": [],
   "source": [
    "def convert(string):\n",
    "    if string == \"특\":\n",
    "        return \"high\"\n",
    "    elif string == \"상\":\n",
    "        return \"medium\"\n",
    "    else:\n",
    "        return \"low\"\n",
    "df['LabelName'] = df['LabelName'].apply(convert)"
   ],
   "metadata": {
    "collapsed": false,
    "pycharm": {
     "name": "#%%\n"
    }
   }
  },
  {
   "cell_type": "code",
   "execution_count": 5,
   "outputs": [],
   "source": [
    "df.to_csv('farms_label.csv', encoding='utf-8')"
   ],
   "metadata": {
    "collapsed": false,
    "pycharm": {
     "name": "#%%\n"
    }
   }
  }
 ],
 "metadata": {
  "kernelspec": {
   "display_name": "Python 3",
   "language": "python",
   "name": "python3"
  },
  "language_info": {
   "codemirror_mode": {
    "name": "ipython",
    "version": 2
   },
   "file_extension": ".py",
   "mimetype": "text/x-python",
   "name": "python",
   "nbconvert_exporter": "python",
   "pygments_lexer": "ipython2",
   "version": "2.7.6"
  }
 },
 "nbformat": 4,
 "nbformat_minor": 0
}