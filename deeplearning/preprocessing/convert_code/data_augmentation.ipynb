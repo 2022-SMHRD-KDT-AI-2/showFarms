{
 "cells": [
  {
   "cell_type": "code",
   "execution_count": 1,
   "outputs": [],
   "source": [
    "import os\n",
    "\n",
    "import cv2\n",
    "import numpy as np\n",
    "import matplotlib.pyplot as plt"
   ],
   "metadata": {
    "collapsed": false,
    "pycharm": {
     "name": "#%%\n"
    }
   }
  },
  {
   "cell_type": "code",
   "execution_count": 2,
   "outputs": [
    {
     "name": "stdout",
     "output_type": "stream",
     "text": [
      "/c/Users/smhrd/Desktop/agumentation\n",
      "C:\\Users\\smhrd\\Desktop\\agumentation\\img\n"
     ]
    }
   ],
   "source": [
    "!pwd\n",
    "%cd \"img\""
   ],
   "metadata": {
    "collapsed": false,
    "pycharm": {
     "name": "#%%\n"
    }
   }
  },
  {
   "cell_type": "code",
   "execution_count": 127,
   "outputs": [
    {
     "data": {
      "text/plain": "(0, 'apple_fuji_L_1-10_5DI90.png')"
     },
     "execution_count": 127,
     "metadata": {},
     "output_type": "execute_result"
    }
   ],
   "source": [
    "list(enumerate(os.listdir()))[0]"
   ],
   "metadata": {
    "collapsed": false,
    "pycharm": {
     "name": "#%%\n"
    }
   }
  },
  {
   "cell_type": "code",
   "execution_count": 133,
   "outputs": [],
   "source": [
    "from PIL import Image\n",
    "for i, j in enumerate(os.listdir()):\n",
    "\timg = Image.open(j)\n",
    "\timg = img.convert(\"RGBA\")\n",
    "\tdatas = img.getdata()\n",
    "\n",
    "\tnewData = []\n",
    "\tfor item in datas:\n",
    "\t\tif item[0] > 170 and item[1] > 170 and item[2] > 170:\n",
    "\t\t\tnewData.append((item[0], item[1], item[2], 0))\n",
    "\t\telse:\n",
    "\t\t\tnewData.append(item)\n",
    "\n",
    "\timg.putdata(newData)\n",
    "\timg.save(f\"../new_img/new{i}.png\")"
   ],
   "metadata": {
    "collapsed": false,
    "pycharm": {
     "name": "#%%\n"
    }
   }
  },
  {
   "cell_type": "code",
   "execution_count": 134,
   "outputs": [
    {
     "name": "stdout",
     "output_type": "stream",
     "text": [
      "C:\\Users\\smhrd\\Desktop\\agumentation\n"
     ]
    }
   ],
   "source": [
    "%cd \"../\""
   ],
   "metadata": {
    "collapsed": false,
    "pycharm": {
     "name": "#%%\n"
    }
   }
  },
  {
   "cell_type": "code",
   "execution_count": 87,
   "outputs": [],
   "source": [
    "import cv2\n",
    "for i, j in enumerate(os.listdir(\"new_img\")):\n",
    "\tif i%2 == 0:\n",
    "\t\timg2 = cv2.imread(\"bg/bg1.png\")\n",
    "\telif i%3 == 0:\n",
    "\t\timg2 = cv2.imread(\"bg/bg2.png\")\n",
    "\telif i%5 == 0:\n",
    "\t\timg2 = cv2.imread(\"bg/bg3.png\")\n",
    "\telse:\n",
    "\t\timg2 = cv2.imread(\"bg/bg4.png\")\n",
    "\n",
    "\timg1 = cv2.imread(\"new_img/\"+j)\n",
    "\n",
    "\trows, cols, channels = img2.shape #로고파일 픽셀값 저장\n",
    "\troi = img1[50:rows+50,50:cols+50] #로고파일 필셀값을 관심영역(ROI)으로 저장함\n",
    "\tgray = cv2.cvtColor(img1, cv2.COLOR_BGR2GRAY) #로고파일의 색상을 그레이로 변경\n",
    "\tret, mask = cv2.threshold(gray, 160, 255, cv2.THRESH_BINARY)\n",
    "\tmask_inv = cv2.bitwise_not(mask)\n",
    "\theight, width = img1.shape[:2]\n",
    "\tbackground_cut = img2[200:400, 135:335]\n",
    "\tresized = cv2.resize(mask, dsize=(200, 200))\n",
    "\tnew_img1 = cv2.bitwise_and(img1, img1, mask=mask_inv)\n",
    "\tnew_img2 = cv2.bitwise_and(background_cut, background_cut, mask=resized)\n",
    "\tresized_new = cv2.resize(new_img1, dsize=(200, 200))\n",
    "\ttmp = cv2.add(resized_new, new_img2)\n",
    "\timg2_copy = img2.copy()\n",
    "\timg2_copy[200:400, 135:335] = tmp\n",
    "\n",
    "\tcv2.imwrite(f\"./agumentated/with_bg{i}.png\",img2_copy)"
   ],
   "metadata": {
    "collapsed": false,
    "pycharm": {
     "name": "#%%\n"
    }
   }
  },
  {
   "cell_type": "code",
   "execution_count": 2,
   "outputs": [],
   "source": [
    "for i in os.listdir(\"agumentated\"):\n",
    "\tf = open(\"label/\"+i[:-4]+\".txt\", \"w\")\n",
    "\tf.write(\"0 0.345376 0.569680 0.286127 0.363465\")\n"
   ],
   "metadata": {
    "collapsed": false,
    "pycharm": {
     "name": "#%%\n"
    }
   }
  },
  {
   "cell_type": "code",
   "execution_count": 9,
   "outputs": [
    {
     "data": {
      "text/plain": "'new1006'"
     },
     "execution_count": 9,
     "metadata": {},
     "output_type": "execute_result"
    }
   ],
   "source": [
    "os.listdir(\"new_img\")[10][:-4]"
   ],
   "metadata": {
    "collapsed": false,
    "pycharm": {
     "name": "#%%\n"
    }
   }
  }
 ],
 "metadata": {
  "kernelspec": {
   "display_name": "Python 3",
   "language": "python",
   "name": "python3"
  },
  "language_info": {
   "codemirror_mode": {
    "name": "ipython",
    "version": 2
   },
   "file_extension": ".py",
   "mimetype": "text/x-python",
   "name": "python",
   "nbconvert_exporter": "python",
   "pygments_lexer": "ipython2",
   "version": "2.7.6"
  }
 },
 "nbformat": 4,
 "nbformat_minor": 0
}